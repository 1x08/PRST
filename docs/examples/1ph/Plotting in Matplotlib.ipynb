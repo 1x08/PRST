{
 "cells": [
  {
   "cell_type": "code",
   "execution_count": 1,
   "metadata": {
    "collapsed": true
   },
   "outputs": [],
   "source": [
    "# For Python 3 compatibility\n",
    "from __future__ import absolute_import\n",
    "from __future__ import division\n",
    "from __future__ import print_function\n",
    "from __future__ import unicode_literals\n",
    "\n",
    "import numpy as np\n",
    "\n",
    "try:\n",
    "    import pyrst\n",
    "except ImportError:\n",
    "    # Add the PRST path to Python path.\n",
    "    import sys\n",
    "    import os\n",
    "    # Directory where the pyrst module is found\n",
    "    pyrst_import_path = os.path.normpath(os.path.join(os.getcwd(), \"..\", \"..\", \"..\"))\n",
    "    sys.path.append(pyrst_import_path)\n",
    "    import pyrst\n",
    "\n",
    "import pyrst.incomp\n",
    "import pyrst.gridprocessing\n",
    "import pyrst.utils"
   ]
  },
  {
   "cell_type": "code",
   "execution_count": 5,
   "metadata": {
    "collapsed": false
   },
   "outputs": [
    {
     "name": "stdout",
     "output_type": "stream",
     "text": [
      "<PRST grid\n",
      "  gridType: [u'tensorGrid', u'cartGrid']\n",
      "  cells: ['facePos', 'num', 'indexMap', 'faces']\n",
      "  cartDims: [ 1  1 30]\n",
      "  gridDim: 3\n",
      "  faces: ['neighbors', 'nodes', 'num', 'tag', 'nodePos']\n",
      "  nodes: ['num', 'coords']\n",
      ">\n"
     ]
    }
   ],
   "source": [
    "# Make the grid. A single column.\n",
    "G = pyrst.gridprocessing.cartGrid([1, 1, 30], [1, 1, 30])\n",
    "print(G)"
   ]
  },
  {
   "cell_type": "code",
   "execution_count": 6,
   "metadata": {
    "collapsed": true
   },
   "outputs": [],
   "source": [
    "import matplotlib.pyplot as plt\n",
    "%matplotlib inline"
   ]
  },
  {
   "cell_type": "code",
   "execution_count": null,
   "metadata": {
    "collapsed": true
   },
   "outputs": [],
   "source": [
    "def plotGrid(G):\n",
    "    \"\"\"\n",
    "    Plots exterior grid faces.\n",
    "    \n",
    "    Synopsis:\n",
    "        plotGrid(G)\n",
    "        plotGrid(G, cells)\n",
    "        plotGrid(G, ax=ax)\n",
    "        plotGrid(G,)\n",
    "    \"\"\""
   ]
  }
 ],
 "metadata": {
  "kernelspec": {
   "display_name": "Python 2",
   "language": "python",
   "name": "python2"
  },
  "language_info": {
   "codemirror_mode": {
    "name": "ipython",
    "version": 2
   },
   "file_extension": ".py",
   "mimetype": "text/x-python",
   "name": "python",
   "nbconvert_exporter": "python",
   "pygments_lexer": "ipython2",
   "version": "2.7.11"
  }
 },
 "nbformat": 4,
 "nbformat_minor": 0
}
