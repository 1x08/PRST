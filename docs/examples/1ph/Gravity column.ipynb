{
 "cells": [
  {
   "cell_type": "markdown",
   "metadata": {},
   "source": [
    "# Gravity column\n",
    "\n",
    "This PRST example is based on the \"1ph/gravityColumn.m\" example found in MRST.\n",
    "\n",
    "## MATLAB code\n",
    "\n",
    "The code we are trying to convert to Python is the following:"
   ]
  },
  {
   "cell_type": "markdown",
   "metadata": {},
   "source": [
    "```\n",
    "%% My First Flow Solver: Gravity Column\n",
    "% In this example, we introduce a simple pressure solver and use it to\n",
    "% solve the single-phase pressure equation\n",
    "%\n",
    "% $$\\nabla\\cdot v = q, \\qquad\n",
    "%    v=\\textbf{--}\\frac{K}{\\mu} \\bigl[\\nabla p+\\rho g\\nabla z\\bigr],$$\n",
    "%\n",
    "% within the domain [0,1]x[0,1]x[0,30] using a Cartesian grid with\n",
    "% homogeneous isotropic permeability of 100 mD. The fluid has density 1000\n",
    "% kg/m^3 and viscosity 1 cP and the pressure is 100 bar at the top of the\n",
    "% structure.\n",
    "%\n",
    "% The purpose of the example is to show the basic steps for setting up,\n",
    "% solving, and visualizing a flow problem. More details on the grid\n",
    "% structure, the structure used to hold the solutions, and so on, are given\n",
    "% in the <simpleBC.html basic flow-solver tutorial>.\n",
    "try\n",
    "    require incomp\n",
    "catch %#ok<CTCH>\n",
    "    mrstModule add incomp\n",
    "end\n",
    "\n",
    "%% Define the model\n",
    "% To set up a model, we need: a grid, rock properties (permeability), a\n",
    "% fluid object with density and viscosity, and boundary conditions.\n",
    "gravity reset on\n",
    "G          = cartGrid([1, 1, 30], [1, 1, 30]);\n",
    "G          = computeGeometry(G);\n",
    "rock.perm  = repmat(0.1*darcy(), [G.cells.num, 1]);\n",
    "fluid      = initSingleFluid('mu' ,    1*centi*poise, ...\n",
    "                             'rho', 1014*kilogram/meter^3);\n",
    "bc  = pside([], G, 'TOP', 100.*barsa());\n",
    "\n",
    "%% Assemble and solve the linear system\n",
    "% To solve the flow problem, we use the standard two-point\n",
    "% flux-approximation method (TPFA), which for a Cartesian grid is the same\n",
    "% as a classical seven-point finite-difference scheme for Poisson's\n",
    "% equation. This is done in two steps: first we compute the\n",
    "% transmissibilities and then we assemble and solve the corresponding\n",
    "% discrete system.\n",
    "T   = computeTrans(G, rock);\n",
    "sol = incompTPFA(initResSol(G, 0.0), G, T, fluid, 'bc', bc);\n",
    "\n",
    "%% Plot the face pressures\n",
    "clf\n",
    "plotFaces(G, 1:G.faces.num, convertTo(sol.facePressure, barsa()));\n",
    "set(gca, 'ZDir', 'reverse'), title('Pressure [bar]')\n",
    "view(3), colorbar\n",
    "set(gca,'DataAspect',[1 1 10]);\n",
    "%%\n",
    "displayEndOfDemoMessage(mfilename)\n",
    "```"
   ]
  },
  {
   "cell_type": "markdown",
   "metadata": {},
   "source": [
    "The rest of the example will walk through this example line for line, displaying the PRST examples."
   ]
  },
  {
   "cell_type": "markdown",
   "metadata": {},
   "source": [
    "## Setup\n",
    "\n",
    "**Start by importing PRST.**"
   ]
  },
  {
   "cell_type": "code",
   "execution_count": 1,
   "metadata": {
    "collapsed": false
   },
   "outputs": [],
   "source": [
    "%load_ext line_profiler"
   ]
  },
  {
   "cell_type": "code",
   "execution_count": 2,
   "metadata": {
    "collapsed": false
   },
   "outputs": [],
   "source": [
    "# For Python 3 compatibility\n",
    "from __future__ import absolute_import\n",
    "from __future__ import division\n",
    "from __future__ import print_function\n",
    "\n",
    "import numpy as np\n",
    "\n",
    "# Enable MayaVi to work non-blocking in notebook\n",
    "#import matplotlib\n",
    "#matplotlib.use('Qt4Agg')\n",
    "#matplotlib.interactive(True)\n",
    "\n",
    "import prst\n",
    "import prst.incomp as incomp\n",
    "import prst.gridprocessing as gridprocessing\n",
    "import prst.utils as utils\n",
    "import prst.params as params\n",
    "import prst.solvers as solvers\n",
    "import prst.plotting as plotting\n",
    "\n",
    "from prst.utils.units import *"
   ]
  },
  {
   "cell_type": "code",
   "execution_count": 3,
   "metadata": {
    "collapsed": false,
    "scrolled": false
   },
   "outputs": [
    {
     "name": "stdout",
     "output_type": "stream",
     "text": [
      "Help on package prst:\n",
      "\n",
      "NAME\n",
      "    prst - Python Reservoir Simulation Toolbox.\n",
      "\n",
      "FILE\n",
      "    m:\\prst\\prst\\__init__.py\n",
      "\n",
      "PACKAGE CONTENTS\n",
      "    gridprocessing\n",
      "    incomp (package)\n",
      "    io\n",
      "    params (package)\n",
      "    plotting\n",
      "    solvers\n",
      "    utils (package)\n",
      "\n",
      "DATA\n",
      "    __all__ = ['gridprocessing', 'io', 'incomp', 'plotting', 'utils', 'par...\n",
      "\n",
      "\n"
     ]
    }
   ],
   "source": [
    "help(prst)"
   ]
  },
  {
   "cell_type": "markdown",
   "metadata": {},
   "source": [
    "## Import the \"incomp\" module\n",
    "```\n",
    "try\n",
    "    require incomp\n",
    "catch %#ok<CTCH>\n",
    "    mrstModule add incomp\n",
    "end\n",
    "```"
   ]
  },
  {
   "cell_type": "markdown",
   "metadata": {},
   "source": [
    "```\n",
    "%% Define the model\n",
    "% To set up a model, we need: a grid, rock properties (permeability), a\n",
    "% fluid object with density and viscosity, and boundary conditions.\n",
    "gravity reset on\n",
    "```"
   ]
  },
  {
   "cell_type": "code",
   "execution_count": 4,
   "metadata": {
    "collapsed": false
   },
   "outputs": [
    {
     "name": "stdout",
     "output_type": "stream",
     "text": [
      "Gravity vector: [ 0.       0.       9.80665]\n"
     ]
    }
   ],
   "source": [
    "# PRST uses a single module-level variable to set the gravity\n",
    "prst.gravity_reset()\n",
    "print(\"Gravity vector:\", prst.gravity)"
   ]
  },
  {
   "cell_type": "markdown",
   "metadata": {},
   "source": [
    "## Build the grid, setup fluid"
   ]
  },
  {
   "cell_type": "markdown",
   "metadata": {},
   "source": [
    "```G          = cartGrid([1, 1, 30], [1, 1, 30]);\n",
    "G          = computeGeometry(G);\n",
    "rock.perm  = repmat(0.1*darcy(), [G.cells.num, 1]);\n",
    "fluid      = initSingleFluid('mu' ,    1*centi*poise, ...\n",
    "                             'rho', 1014*kilogram/meter^3);\n",
    "                             ```"
   ]
  },
  {
   "cell_type": "code",
   "execution_count": 5,
   "metadata": {
    "collapsed": false
   },
   "outputs": [
    {
     "name": "stdout",
     "output_type": "stream",
     "text": [
      "<PRST grid\n",
      "  gridType: ['tensorGrid', 'cartGrid']\n",
      "  cells: ['facePos', 'num', 'indexMap', 'faces']\n",
      "  cartDims: [ 1  1 30]\n",
      "  gridDim: 3\n",
      "  faces: ['neighbors', 'nodes', 'num', 'tag', 'nodePos']\n",
      "  nodes: ['num', 'coords']\n",
      ">\n"
     ]
    }
   ],
   "source": [
    "G = gridprocessing.cartGrid([1, 1, 30], [1, 1, 30])\n",
    "print(G)"
   ]
  },
  {
   "cell_type": "markdown",
   "metadata": {},
   "source": [
    "**Computing the geometry modifies the original grid in place, no assignment is \n",
    "necessary. Note that specifying the module is necessary in PRST.\n",
    "This avoids polluting the global namespace, at the cost of more verbosity.**"
   ]
  },
  {
   "cell_type": "code",
   "execution_count": 6,
   "metadata": {
    "collapsed": false
   },
   "outputs": [
    {
     "name": "stderr",
     "output_type": "stream",
     "text": [
      "INFO:prst:Computing normals, areas and centroids...\n",
      "INFO:prst:Computing cell volumes and centroids\n"
     ]
    },
    {
     "data": {
      "text/plain": [
       "<prst.gridprocessing.Grid at 0x1589da58>"
      ]
     },
     "execution_count": 6,
     "metadata": {},
     "output_type": "execute_result"
    }
   ],
   "source": [
    "gridprocessing.computeGeometry(G)"
   ]
  },
  {
   "cell_type": "code",
   "execution_count": 7,
   "metadata": {
    "collapsed": false
   },
   "outputs": [],
   "source": [
    "rock = params.rock.Rock(G, perm=0.1*darcy, poro=1)"
   ]
  },
  {
   "cell_type": "code",
   "execution_count": 8,
   "metadata": {
    "collapsed": false
   },
   "outputs": [
    {
     "name": "stdout",
     "output_type": "stream",
     "text": [
      "{'mu': 0.001, 'rho': 1014.0}\n"
     ]
    }
   ],
   "source": [
    "fluid = incomp.fluid.SingleFluid(viscosity=1*centi*poise, density=1014*kilogram/meter**3)\n",
    "print(fluid)"
   ]
  },
  {
   "cell_type": "markdown",
   "metadata": {},
   "source": [
    "**Set up boundary conditions. Constant pressure at top face.**"
   ]
  },
  {
   "cell_type": "code",
   "execution_count": 9,
   "metadata": {
    "collapsed": false
   },
   "outputs": [
    {
     "data": {
      "text/plain": [
       "<prst.params.wells_and_bc.BoundaryCondition at 0x15708048>"
      ]
     },
     "execution_count": 9,
     "metadata": {},
     "output_type": "execute_result"
    }
   ],
   "source": [
    "bc = params.wells_and_bc.BoundaryCondition()\n",
    "bc.addPressureSide(G, \"top\", 100*bar)\n",
    "\n"
   ]
  },
  {
   "cell_type": "code",
   "execution_count": 10,
   "metadata": {
    "collapsed": false
   },
   "outputs": [
    {
     "name": "stdout",
     "output_type": "stream",
     "text": [
      "{'sat': None, 'type': array([['pressure']], \n",
      "      dtype='|S8'), 'value': array([[ 10000000.]]), 'face': array([[120]])}\n"
     ]
    }
   ],
   "source": [
    "print(bc)"
   ]
  },
  {
   "cell_type": "markdown",
   "metadata": {},
   "source": [
    "## Assemble and solve the linear system\n",
    "```\n",
    "%% Assemble and solve the linear system\n",
    "% To solve the flow problem, we use the standard two-point\n",
    "% flux-approximation method (TPFA), which for a Cartesian grid is the same\n",
    "% as a classical seven-point finite-difference scheme for Poisson's\n",
    "% equation. This is done in two steps: first we compute the\n",
    "% transmissibilities and then we assemble and solve the corresponding\n",
    "% discrete system.\n",
    "T   = computeTrans(G, rock);\n",
    "sol = incompTPFA(initResSol(G, 0.0), G, T, fluid, 'bc', bc);\n",
    "```"
   ]
  },
  {
   "cell_type": "code",
   "execution_count": 11,
   "metadata": {
    "collapsed": false
   },
   "outputs": [
    {
     "name": "stderr",
     "output_type": "stream",
     "text": [
      "M:\\miniconda2-win64\\lib\\site-packages\\numpy_groupies\\utils.py:298: RuntimeWarning: overflow encountered in long_scalars\n",
      "  maxval = np.iinfo(a_dtype).max * n\n"
     ]
    }
   ],
   "source": [
    "T = solvers.computeTrans(G, rock)\n",
    "resSol = solvers.initResSol(G, p0=0.0)\n",
    "sol = incomp.incompTPFA(resSol, G, T, fluid, bc=bc)"
   ]
  },
  {
   "cell_type": "code",
   "execution_count": 12,
   "metadata": {
    "collapsed": false
   },
   "outputs": [
    {
     "data": {
      "text/plain": [
       "{'facePressure': array([[ 10004971.97155   ],\n",
       "        [ 10004971.97155   ],\n",
       "        [ 10014915.91464999],\n",
       "        [ 10014915.91464999],\n",
       "        [ 10024859.85774999],\n",
       "        [ 10024859.85774999],\n",
       "        [ 10034803.80084999],\n",
       "        [ 10034803.80084999],\n",
       "        [ 10044747.74394998],\n",
       "        [ 10044747.74394998],\n",
       "        [ 10054691.68704998],\n",
       "        [ 10054691.68704998],\n",
       "        [ 10064635.63014997],\n",
       "        [ 10064635.63014997],\n",
       "        [ 10074579.57324997],\n",
       "        [ 10074579.57324997],\n",
       "        [ 10084523.51634996],\n",
       "        [ 10084523.51634996],\n",
       "        [ 10094467.45944996],\n",
       "        [ 10094467.45944996],\n",
       "        [ 10104411.40254995],\n",
       "        [ 10104411.40254995],\n",
       "        [ 10114355.34564995],\n",
       "        [ 10114355.34564995],\n",
       "        [ 10124299.28874994],\n",
       "        [ 10124299.28874994],\n",
       "        [ 10134243.23184994],\n",
       "        [ 10134243.23184994],\n",
       "        [ 10144187.17494993],\n",
       "        [ 10144187.17494993],\n",
       "        [ 10154131.11804993],\n",
       "        [ 10154131.11804993],\n",
       "        [ 10164075.06114993],\n",
       "        [ 10164075.06114993],\n",
       "        [ 10174019.00424993],\n",
       "        [ 10174019.00424993],\n",
       "        [ 10183962.94734993],\n",
       "        [ 10183962.94734993],\n",
       "        [ 10193906.89044992],\n",
       "        [ 10193906.89044992],\n",
       "        [ 10203850.83354992],\n",
       "        [ 10203850.83354992],\n",
       "        [ 10213794.77664992],\n",
       "        [ 10213794.77664992],\n",
       "        [ 10223738.71974991],\n",
       "        [ 10223738.71974991],\n",
       "        [ 10233682.66284991],\n",
       "        [ 10233682.66284991],\n",
       "        [ 10243626.6059499 ],\n",
       "        [ 10243626.6059499 ],\n",
       "        [ 10253570.5490499 ],\n",
       "        [ 10253570.5490499 ],\n",
       "        [ 10263514.4921499 ],\n",
       "        [ 10263514.4921499 ],\n",
       "        [ 10273458.4352499 ],\n",
       "        [ 10273458.4352499 ],\n",
       "        [ 10283402.3783499 ],\n",
       "        [ 10283402.3783499 ],\n",
       "        [ 10293346.3214499 ],\n",
       "        [ 10293346.3214499 ],\n",
       "        [ 10004971.97155   ],\n",
       "        [ 10004971.97155   ],\n",
       "        [ 10014915.91464999],\n",
       "        [ 10014915.91464999],\n",
       "        [ 10024859.85774999],\n",
       "        [ 10024859.85774999],\n",
       "        [ 10034803.80084999],\n",
       "        [ 10034803.80084999],\n",
       "        [ 10044747.74394998],\n",
       "        [ 10044747.74394998],\n",
       "        [ 10054691.68704998],\n",
       "        [ 10054691.68704998],\n",
       "        [ 10064635.63014997],\n",
       "        [ 10064635.63014997],\n",
       "        [ 10074579.57324997],\n",
       "        [ 10074579.57324997],\n",
       "        [ 10084523.51634996],\n",
       "        [ 10084523.51634996],\n",
       "        [ 10094467.45944996],\n",
       "        [ 10094467.45944996],\n",
       "        [ 10104411.40254995],\n",
       "        [ 10104411.40254995],\n",
       "        [ 10114355.34564995],\n",
       "        [ 10114355.34564995],\n",
       "        [ 10124299.28874994],\n",
       "        [ 10124299.28874994],\n",
       "        [ 10134243.23184994],\n",
       "        [ 10134243.23184994],\n",
       "        [ 10144187.17494993],\n",
       "        [ 10144187.17494993],\n",
       "        [ 10154131.11804993],\n",
       "        [ 10154131.11804993],\n",
       "        [ 10164075.06114993],\n",
       "        [ 10164075.06114993],\n",
       "        [ 10174019.00424993],\n",
       "        [ 10174019.00424993],\n",
       "        [ 10183962.94734993],\n",
       "        [ 10183962.94734993],\n",
       "        [ 10193906.89044992],\n",
       "        [ 10193906.89044992],\n",
       "        [ 10203850.83354992],\n",
       "        [ 10203850.83354992],\n",
       "        [ 10213794.77664992],\n",
       "        [ 10213794.77664992],\n",
       "        [ 10223738.71974991],\n",
       "        [ 10223738.71974991],\n",
       "        [ 10233682.66284991],\n",
       "        [ 10233682.66284991],\n",
       "        [ 10243626.6059499 ],\n",
       "        [ 10243626.6059499 ],\n",
       "        [ 10253570.5490499 ],\n",
       "        [ 10253570.5490499 ],\n",
       "        [ 10263514.4921499 ],\n",
       "        [ 10263514.4921499 ],\n",
       "        [ 10273458.4352499 ],\n",
       "        [ 10273458.4352499 ],\n",
       "        [ 10283402.3783499 ],\n",
       "        [ 10283402.3783499 ],\n",
       "        [ 10293346.3214499 ],\n",
       "        [ 10293346.3214499 ],\n",
       "        [ 10000000.        ],\n",
       "        [ 10009943.94309999],\n",
       "        [ 10019887.88619999],\n",
       "        [ 10029831.82929999],\n",
       "        [ 10039775.77239999],\n",
       "        [ 10049719.71549998],\n",
       "        [ 10059663.65859998],\n",
       "        [ 10069607.60169997],\n",
       "        [ 10079551.54479997],\n",
       "        [ 10089495.48789996],\n",
       "        [ 10099439.43099996],\n",
       "        [ 10109383.37409995],\n",
       "        [ 10119327.31719995],\n",
       "        [ 10129271.26029994],\n",
       "        [ 10139215.20339994],\n",
       "        [ 10149159.14649993],\n",
       "        [ 10159103.08959993],\n",
       "        [ 10169047.03269993],\n",
       "        [ 10178990.97579993],\n",
       "        [ 10188934.91889993],\n",
       "        [ 10198878.86199992],\n",
       "        [ 10208822.80509992],\n",
       "        [ 10218766.74819992],\n",
       "        [ 10228710.69129991],\n",
       "        [ 10238654.63439991],\n",
       "        [ 10248598.5774999 ],\n",
       "        [ 10258542.5205999 ],\n",
       "        [ 10268486.4636999 ],\n",
       "        [ 10278430.40679991],\n",
       "        [ 10288374.3498999 ],\n",
       "        [ 10298318.2929999 ]]), 'flux': array([[  0.00000000e+00],\n",
       "        [ -0.00000000e+00],\n",
       "        [  0.00000000e+00],\n",
       "        [ -0.00000000e+00],\n",
       "        [  0.00000000e+00],\n",
       "        [ -0.00000000e+00],\n",
       "        [  0.00000000e+00],\n",
       "        [ -0.00000000e+00],\n",
       "        [  0.00000000e+00],\n",
       "        [ -0.00000000e+00],\n",
       "        [  0.00000000e+00],\n",
       "        [ -0.00000000e+00],\n",
       "        [  0.00000000e+00],\n",
       "        [ -0.00000000e+00],\n",
       "        [  0.00000000e+00],\n",
       "        [ -0.00000000e+00],\n",
       "        [  0.00000000e+00],\n",
       "        [ -0.00000000e+00],\n",
       "        [  0.00000000e+00],\n",
       "        [ -0.00000000e+00],\n",
       "        [  0.00000000e+00],\n",
       "        [ -0.00000000e+00],\n",
       "        [  3.67657567e-19],\n",
       "        [ -3.67657567e-19],\n",
       "        [  0.00000000e+00],\n",
       "        [ -0.00000000e+00],\n",
       "        [  0.00000000e+00],\n",
       "        [ -0.00000000e+00],\n",
       "        [  0.00000000e+00],\n",
       "        [ -0.00000000e+00],\n",
       "        [  0.00000000e+00],\n",
       "        [ -0.00000000e+00],\n",
       "        [  0.00000000e+00],\n",
       "        [ -0.00000000e+00],\n",
       "        [  0.00000000e+00],\n",
       "        [ -0.00000000e+00],\n",
       "        [  0.00000000e+00],\n",
       "        [ -0.00000000e+00],\n",
       "        [  0.00000000e+00],\n",
       "        [ -0.00000000e+00],\n",
       "        [  0.00000000e+00],\n",
       "        [ -0.00000000e+00],\n",
       "        [  0.00000000e+00],\n",
       "        [ -0.00000000e+00],\n",
       "        [  0.00000000e+00],\n",
       "        [ -0.00000000e+00],\n",
       "        [  0.00000000e+00],\n",
       "        [ -0.00000000e+00],\n",
       "        [  0.00000000e+00],\n",
       "        [ -0.00000000e+00],\n",
       "        [  0.00000000e+00],\n",
       "        [ -0.00000000e+00],\n",
       "        [  0.00000000e+00],\n",
       "        [ -0.00000000e+00],\n",
       "        [  0.00000000e+00],\n",
       "        [ -0.00000000e+00],\n",
       "        [  0.00000000e+00],\n",
       "        [ -0.00000000e+00],\n",
       "        [  0.00000000e+00],\n",
       "        [ -0.00000000e+00],\n",
       "        [  0.00000000e+00],\n",
       "        [ -0.00000000e+00],\n",
       "        [  0.00000000e+00],\n",
       "        [ -0.00000000e+00],\n",
       "        [  0.00000000e+00],\n",
       "        [ -0.00000000e+00],\n",
       "        [  0.00000000e+00],\n",
       "        [ -0.00000000e+00],\n",
       "        [  0.00000000e+00],\n",
       "        [ -0.00000000e+00],\n",
       "        [  0.00000000e+00],\n",
       "        [ -0.00000000e+00],\n",
       "        [  0.00000000e+00],\n",
       "        [ -0.00000000e+00],\n",
       "        [  0.00000000e+00],\n",
       "        [ -0.00000000e+00],\n",
       "        [  0.00000000e+00],\n",
       "        [ -0.00000000e+00],\n",
       "        [  0.00000000e+00],\n",
       "        [ -0.00000000e+00],\n",
       "        [  0.00000000e+00],\n",
       "        [ -0.00000000e+00],\n",
       "        [  3.67657567e-19],\n",
       "        [ -3.67657567e-19],\n",
       "        [  0.00000000e+00],\n",
       "        [ -0.00000000e+00],\n",
       "        [  0.00000000e+00],\n",
       "        [ -0.00000000e+00],\n",
       "        [  0.00000000e+00],\n",
       "        [ -0.00000000e+00],\n",
       "        [  0.00000000e+00],\n",
       "        [ -0.00000000e+00],\n",
       "        [  0.00000000e+00],\n",
       "        [ -0.00000000e+00],\n",
       "        [  0.00000000e+00],\n",
       "        [ -0.00000000e+00],\n",
       "        [  0.00000000e+00],\n",
       "        [ -0.00000000e+00],\n",
       "        [  0.00000000e+00],\n",
       "        [ -0.00000000e+00],\n",
       "        [  0.00000000e+00],\n",
       "        [ -0.00000000e+00],\n",
       "        [  0.00000000e+00],\n",
       "        [ -0.00000000e+00],\n",
       "        [  0.00000000e+00],\n",
       "        [ -0.00000000e+00],\n",
       "        [  0.00000000e+00],\n",
       "        [ -0.00000000e+00],\n",
       "        [  0.00000000e+00],\n",
       "        [ -0.00000000e+00],\n",
       "        [  0.00000000e+00],\n",
       "        [ -0.00000000e+00],\n",
       "        [  0.00000000e+00],\n",
       "        [ -0.00000000e+00],\n",
       "        [  0.00000000e+00],\n",
       "        [ -0.00000000e+00],\n",
       "        [  0.00000000e+00],\n",
       "        [ -0.00000000e+00],\n",
       "        [  0.00000000e+00],\n",
       "        [ -0.00000000e+00],\n",
       "        [  5.71054063e-19],\n",
       "        [  3.87225279e-19],\n",
       "        [  3.87225279e-19],\n",
       "        [  2.03396496e-19],\n",
       "        [  3.87225279e-19],\n",
       "        [  5.71054063e-19],\n",
       "        [  5.71054063e-19],\n",
       "        [  3.87225279e-19],\n",
       "        [  3.87225279e-19],\n",
       "        [  3.87225279e-19],\n",
       "        [  5.71054063e-19],\n",
       "        [  5.71054063e-19],\n",
       "        [  3.87225279e-19],\n",
       "        [  5.71054063e-19],\n",
       "        [  3.87225279e-19],\n",
       "        [  2.03396496e-19],\n",
       "        [  3.87225279e-19],\n",
       "        [  1.95677123e-20],\n",
       "        [  2.03396496e-19],\n",
       "        [  2.03396496e-19],\n",
       "        [  3.87225279e-19],\n",
       "        [  3.87225279e-19],\n",
       "        [  3.87225279e-19],\n",
       "        [  3.87225279e-19],\n",
       "        [  3.87225279e-19],\n",
       "        [  2.03396496e-19],\n",
       "        [  1.95677123e-20],\n",
       "        [ -1.64261071e-19],\n",
       "        [  2.03396496e-19],\n",
       "        [  1.95677123e-20],\n",
       "        [ -1.64261071e-19]]), 'pressure': array([[ 10004971.97155   ],\n",
       "        [ 10014915.91464999],\n",
       "        [ 10024859.85774999],\n",
       "        [ 10034803.80084999],\n",
       "        [ 10044747.74394998],\n",
       "        [ 10054691.68704998],\n",
       "        [ 10064635.63014997],\n",
       "        [ 10074579.57324997],\n",
       "        [ 10084523.51634996],\n",
       "        [ 10094467.45944996],\n",
       "        [ 10104411.40254995],\n",
       "        [ 10114355.34564995],\n",
       "        [ 10124299.28874994],\n",
       "        [ 10134243.23184994],\n",
       "        [ 10144187.17494993],\n",
       "        [ 10154131.11804993],\n",
       "        [ 10164075.06114993],\n",
       "        [ 10174019.00424993],\n",
       "        [ 10183962.94734993],\n",
       "        [ 10193906.89044992],\n",
       "        [ 10203850.83354992],\n",
       "        [ 10213794.77664992],\n",
       "        [ 10223738.71974991],\n",
       "        [ 10233682.66284991],\n",
       "        [ 10243626.6059499 ],\n",
       "        [ 10253570.5490499 ],\n",
       "        [ 10263514.4921499 ],\n",
       "        [ 10273458.4352499 ],\n",
       "        [ 10283402.3783499 ],\n",
       "        [ 10293346.3214499 ]]), 's': array([[ 0.],\n",
       "        [ 0.],\n",
       "        [ 0.],\n",
       "        [ 0.],\n",
       "        [ 0.],\n",
       "        [ 0.],\n",
       "        [ 0.],\n",
       "        [ 0.],\n",
       "        [ 0.],\n",
       "        [ 0.],\n",
       "        [ 0.],\n",
       "        [ 0.],\n",
       "        [ 0.],\n",
       "        [ 0.],\n",
       "        [ 0.],\n",
       "        [ 0.],\n",
       "        [ 0.],\n",
       "        [ 0.],\n",
       "        [ 0.],\n",
       "        [ 0.],\n",
       "        [ 0.],\n",
       "        [ 0.],\n",
       "        [ 0.],\n",
       "        [ 0.],\n",
       "        [ 0.],\n",
       "        [ 0.],\n",
       "        [ 0.],\n",
       "        [ 0.],\n",
       "        [ 0.],\n",
       "        [ 0.]])}"
      ]
     },
     "execution_count": 12,
     "metadata": {},
     "output_type": "execute_result"
    }
   ],
   "source": [
    "sol"
   ]
  },
  {
   "cell_type": "markdown",
   "metadata": {},
   "source": [
    "## getCellNoFaces"
   ]
  },
  {
   "cell_type": "markdown",
   "metadata": {},
   "source": [
    "# Plotting"
   ]
  },
  {
   "cell_type": "markdown",
   "metadata": {},
   "source": [
    "    %% Plot the face pressures\n",
    "    clf\n",
    "    plotFaces(G, 1:G.faces.num, convertTo(sol.facePressure, barsa()));\n",
    "    set(gca, 'ZDir', 'reverse'), title('Pressure [bar]')\n",
    "    view(3), colorbar\n",
    "    set(gca,'DataAspect',[1 1 10]);"
   ]
  },
  {
   "cell_type": "code",
   "execution_count": 13,
   "metadata": {
    "collapsed": false
   },
   "outputs": [
    {
     "name": "stderr",
     "output_type": "stream",
     "text": [
      "WARNING:traits.has_traits:DEPRECATED: traits.has_traits.wrapped_class, 'the 'implements' class advisor has been deprecated. Use the 'provides' class decorator.\n"
     ]
    },
    {
     "data": {
      "text/plain": [
       "<mayavi.modules.axes.Axes at 0x1bea1a40>"
      ]
     },
     "execution_count": 13,
     "metadata": {},
     "output_type": "execute_result"
    }
   ],
   "source": [
    "\n",
    "import prst.plotting as plotting\n",
    "from prst.utils.units import convert\n",
    "from mayavi import mlab\n",
    "plotting.plotGrid(G, cell_data=convert(sol.pressure, to=bar),\n",
    "                  colorbar=True, mlab_show=False)\n",
    "mlab.axes()\n",
    "mlab.show()"
   ]
  }
 ],
 "metadata": {
  "kernelspec": {
   "display_name": "Python 2",
   "language": "python",
   "name": "python2"
  },
  "language_info": {
   "codemirror_mode": {
    "name": "ipython",
    "version": 2
   },
   "file_extension": ".py",
   "mimetype": "text/x-python",
   "name": "python",
   "nbconvert_exporter": "python",
   "pygments_lexer": "ipython2",
   "version": "2.7.11"
  }
 },
 "nbformat": 4,
 "nbformat_minor": 0
}
