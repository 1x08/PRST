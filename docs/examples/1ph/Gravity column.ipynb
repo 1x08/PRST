{
 "cells": [
  {
   "cell_type": "markdown",
   "metadata": {},
   "source": [
    "# Gravity column\n",
    "\n",
    "This PRST example is based on the \"1ph/gravityColumn.m\" example found in MRST.\n",
    "\n",
    "## MATLAB code\n",
    "\n",
    "The code we are trying to convert to Python is the following:"
   ]
  },
  {
   "cell_type": "markdown",
   "metadata": {},
   "source": [
    "```\n",
    "%% My First Flow Solver: Gravity Column\n",
    "% In this example, we introduce a simple pressure solver and use it to\n",
    "% solve the single-phase pressure equation\n",
    "%\n",
    "% $$\\nabla\\cdot v = q, \\qquad\n",
    "%    v=\\textbf{--}\\frac{K}{\\mu} \\bigl[\\nabla p+\\rho g\\nabla z\\bigr],$$\n",
    "%\n",
    "% within the domain [0,1]x[0,1]x[0,30] using a Cartesian grid with\n",
    "% homogeneous isotropic permeability of 100 mD. The fluid has density 1000\n",
    "% kg/m^3 and viscosity 1 cP and the pressure is 100 bar at the top of the\n",
    "% structure.\n",
    "%\n",
    "% The purpose of the example is to show the basic steps for setting up,\n",
    "% solving, and visualizing a flow problem. More details on the grid\n",
    "% structure, the structure used to hold the solutions, and so on, are given\n",
    "% in the <simpleBC.html basic flow-solver tutorial>.\n",
    "try\n",
    "    require incomp\n",
    "catch %#ok<CTCH>\n",
    "    mrstModule add incomp\n",
    "end\n",
    "\n",
    "%% Define the model\n",
    "% To set up a model, we need: a grid, rock properties (permeability), a\n",
    "% fluid object with density and viscosity, and boundary conditions.\n",
    "gravity reset on\n",
    "G          = cartGrid([1, 1, 30], [1, 1, 30]);\n",
    "G          = computeGeometry(G);\n",
    "rock.perm  = repmat(0.1*darcy(), [G.cells.num, 1]);\n",
    "fluid      = initSingleFluid('mu' ,    1*centi*poise, ...\n",
    "                             'rho', 1014*kilogram/meter^3);\n",
    "bc  = pside([], G, 'TOP', 100.*barsa());\n",
    "\n",
    "%% Assemble and solve the linear system\n",
    "% To solve the flow problem, we use the standard two-point\n",
    "% flux-approximation method (TPFA), which for a Cartesian grid is the same\n",
    "% as a classical seven-point finite-difference scheme for Poisson's\n",
    "% equation. This is done in two steps: first we compute the\n",
    "% transmissibilities and then we assemble and solve the corresponding\n",
    "% discrete system.\n",
    "T   = computeTrans(G, rock);\n",
    "sol = incompTPFA(initResSol(G, 0.0), G, T, fluid, 'bc', bc);\n",
    "\n",
    "%% Plot the face pressures\n",
    "clf\n",
    "plotFaces(G, 1:G.faces.num, convertTo(sol.facePressure, barsa()));\n",
    "set(gca, 'ZDir', 'reverse'), title('Pressure [bar]')\n",
    "view(3), colorbar\n",
    "set(gca,'DataAspect',[1 1 10]);\n",
    "%%\n",
    "displayEndOfDemoMessage(mfilename)\n",
    "```"
   ]
  },
  {
   "cell_type": "markdown",
   "metadata": {},
   "source": [
    "The rest of the example will walk through this example line for line, displaying the PRST examples."
   ]
  },
  {
   "cell_type": "markdown",
   "metadata": {},
   "source": [
    "## Setup\n",
    "\n",
    "**Start by importing PRST.**"
   ]
  },
  {
   "cell_type": "code",
   "execution_count": 18,
   "metadata": {
    "collapsed": false
   },
   "outputs": [],
   "source": [
    "# For Python 3 compatibility\n",
    "from __future__ import absolute_import\n",
    "from __future__ import division\n",
    "from __future__ import print_function\n",
    "from __future__ import unicode_literals\n",
    "\n",
    "import numpy as np\n",
    "\n",
    "import prst\n",
    "import prst.incomp as incomp\n",
    "import prst.gridprocessing as gridprocessing\n",
    "import prst.utils as utils\n",
    "import prst.params as params\n",
    "import prst.solvers as solvers"
   ]
  },
  {
   "cell_type": "code",
   "execution_count": 2,
   "metadata": {
    "collapsed": false,
    "scrolled": false
   },
   "outputs": [
    {
     "name": "stdout",
     "output_type": "stream",
     "text": [
      "Help on package prst:\n",
      "\n",
      "NAME\n",
      "    prst - Python Reservoir Simulation Toolbox.\n",
      "\n",
      "FILE\n",
      "    m:\\prst\\prst\\__init__.py\n",
      "\n",
      "PACKAGE CONTENTS\n",
      "    gridprocessing\n",
      "    incomp (package)\n",
      "    io\n",
      "    params (package)\n",
      "    plotting\n",
      "    solvers\n",
      "    utils (package)\n",
      "\n",
      "DATA\n",
      "    __all__ = ['gridprocessing', 'io', 'incomp', 'plotting', 'utils', 'par...\n",
      "\n",
      "\n"
     ]
    }
   ],
   "source": [
    "help(prst)"
   ]
  },
  {
   "cell_type": "markdown",
   "metadata": {},
   "source": [
    "## Import the \"incomp\" module\n",
    "```\n",
    "try\n",
    "    require incomp\n",
    "catch %#ok<CTCH>\n",
    "    mrstModule add incomp\n",
    "end\n",
    "```"
   ]
  },
  {
   "cell_type": "code",
   "execution_count": 3,
   "metadata": {
    "collapsed": false
   },
   "outputs": [],
   "source": [
    "import prst.incomp"
   ]
  },
  {
   "cell_type": "markdown",
   "metadata": {},
   "source": [
    "```\n",
    "%% Define the model\n",
    "% To set up a model, we need: a grid, rock properties (permeability), a\n",
    "% fluid object with density and viscosity, and boundary conditions.\n",
    "gravity reset on\n",
    "```"
   ]
  },
  {
   "cell_type": "code",
   "execution_count": 4,
   "metadata": {
    "collapsed": false
   },
   "outputs": [
    {
     "name": "stdout",
     "output_type": "stream",
     "text": [
      "Gravity vector: [ 0.       0.       9.80665]\n"
     ]
    }
   ],
   "source": [
    "# PRST uses a single module-level variable to set the gravity\n",
    "params.gravity_reset()\n",
    "print(\"Gravity vector:\", params.gravity)"
   ]
  },
  {
   "cell_type": "markdown",
   "metadata": {},
   "source": [
    "## Build the grid, setup fluid"
   ]
  },
  {
   "cell_type": "markdown",
   "metadata": {},
   "source": [
    "```G          = cartGrid([1, 1, 30], [1, 1, 30]);\n",
    "G          = computeGeometry(G);\n",
    "rock.perm  = repmat(0.1*darcy(), [G.cells.num, 1]);\n",
    "fluid      = initSingleFluid('mu' ,    1*centi*poise, ...\n",
    "                             'rho', 1014*kilogram/meter^3);\n",
    "                             ```"
   ]
  },
  {
   "cell_type": "code",
   "execution_count": 5,
   "metadata": {
    "collapsed": false
   },
   "outputs": [
    {
     "name": "stdout",
     "output_type": "stream",
     "text": [
      "<PRST grid\n",
      "  gridType: [u'tensorGrid', u'cartGrid']\n",
      "  cells: ['facePos', 'num', 'indexMap', 'faces']\n",
      "  cartDims: [ 1  1 30]\n",
      "  gridDim: 3\n",
      "  faces: ['neighbors', 'nodes', 'num', 'tag', 'nodePos']\n",
      "  nodes: ['num', 'coords']\n",
      ">\n"
     ]
    }
   ],
   "source": [
    "G = gridprocessing.cartGrid([1, 1, 30], [1, 1, 30])\n",
    "print(G)"
   ]
  },
  {
   "cell_type": "markdown",
   "metadata": {},
   "source": [
    "**Computing the geometry modifies the original grid in place, no assignment is \n",
    "necessary. Note that specifying the module is necessary in PRST.\n",
    "This avoids polluting the global namespace, at the cost of more verbosity.**"
   ]
  },
  {
   "cell_type": "code",
   "execution_count": 6,
   "metadata": {
    "collapsed": false
   },
   "outputs": [
    {
     "name": "stderr",
     "output_type": "stream",
     "text": [
      "INFO:prst:Computing normals, areas and centroids...\n",
      "INFO:prst:Computing cell volumes and centroids\n"
     ]
    },
    {
     "data": {
      "text/plain": [
       "<prst.gridprocessing.Grid at 0x126e9588>"
      ]
     },
     "execution_count": 6,
     "metadata": {},
     "output_type": "execute_result"
    }
   ],
   "source": [
    "gridprocessing.computeGeometry(G)"
   ]
  },
  {
   "cell_type": "code",
   "execution_count": 7,
   "metadata": {
    "collapsed": false
   },
   "outputs": [
    {
     "name": "stdout",
     "output_type": "stream",
     "text": [
      "<PRST grid\n",
      "  gridType: [u'tensorGrid', u'cartGrid', u'computeGeometry']\n",
      "  cells: ['facePos', 'centroids', 'num', 'volumes', 'faces', 'indexMap']\n",
      "  cartDims: [ 1  1 30]\n",
      "  gridDim: 3\n",
      "  faces: ['neighbors', 'nodePos', 'tag', 'centroids', 'num', 'normals', 'nodes', 'areas']\n",
      "  nodes: ['num', 'coords']\n",
      ">\n"
     ]
    }
   ],
   "source": [
    "print(G)"
   ]
  },
  {
   "cell_type": "code",
   "execution_count": 8,
   "metadata": {
    "collapsed": false
   },
   "outputs": [],
   "source": [
    "from prst.params.rock import Rock\n",
    "from prst.utils.units import *\n",
    "rock = Rock(G, perm=0.1*darcy, poro=1)"
   ]
  },
  {
   "cell_type": "code",
   "execution_count": 9,
   "metadata": {
    "collapsed": false
   },
   "outputs": [
    {
     "name": "stdout",
     "output_type": "stream",
     "text": [
      "{'mu': 0.001, 'rho': 1014.0}\n"
     ]
    }
   ],
   "source": [
    "from prst.incomp.fluid import SingleFluid\n",
    "fluid = SingleFluid(viscosity=1*centi*poise, density=1014*kilogram/meter**3)\n",
    "print(fluid)"
   ]
  },
  {
   "cell_type": "markdown",
   "metadata": {},
   "source": [
    "**Set up boundary conditions. Constant pressure at top face.**"
   ]
  },
  {
   "cell_type": "code",
   "execution_count": 10,
   "metadata": {
    "collapsed": false
   },
   "outputs": [
    {
     "data": {
      "text/plain": [
       "<prst.params.wells_and_bc.BoundaryCondition at 0x3e1a080>"
      ]
     },
     "execution_count": 10,
     "metadata": {},
     "output_type": "execute_result"
    }
   ],
   "source": [
    "#bc  = pside([], G, 'TOP', 100.*barsa());\n",
    "from prst.params.wells_and_bc import BoundaryCondition, _boundaryCellsSubset\n",
    "try:\n",
    "    reload(prst.params.wells_and_bc)\n",
    "except Exception as e:\n",
    "    print(\"couldnt reload\", e)\n",
    "\n",
    "bc = BoundaryCondition()\n",
    "bc.addPressureSide(G, \"top\", 100*bar)\n",
    "\n"
   ]
  },
  {
   "cell_type": "code",
   "execution_count": 11,
   "metadata": {
    "collapsed": false
   },
   "outputs": [
    {
     "name": "stdout",
     "output_type": "stream",
     "text": [
      "{'sat': None, 'type': array([[u'pressure']], \n",
      "      dtype='<U8'), 'value': array([[ 10000000.]]), 'face': array([[120]])}\n"
     ]
    }
   ],
   "source": [
    "print(bc)"
   ]
  },
  {
   "cell_type": "markdown",
   "metadata": {},
   "source": [
    "## Assemble and solve the linear system\n",
    "```\n",
    "%% Assemble and solve the linear system\n",
    "% To solve the flow problem, we use the standard two-point\n",
    "% flux-approximation method (TPFA), which for a Cartesian grid is the same\n",
    "% as a classical seven-point finite-difference scheme for Poisson's\n",
    "% equation. This is done in two steps: first we compute the\n",
    "% transmissibilities and then we assemble and solve the corresponding\n",
    "% discrete system.\n",
    "T   = computeTrans(G, rock);\n",
    "sol = incompTPFA(initResSol(G, 0.0), G, T, fluid, 'bc', bc);\n",
    "```"
   ]
  },
  {
   "cell_type": "code",
   "execution_count": 14,
   "metadata": {
    "collapsed": false
   },
   "outputs": [
    {
     "ename": "NameError",
     "evalue": "name 'initResSol' is not defined",
     "output_type": "error",
     "traceback": [
      "\u001b[1;31m---------------------------------------------------------------------------\u001b[0m",
      "\u001b[1;31mNameError\u001b[0m                                 Traceback (most recent call last)",
      "\u001b[1;32m<ipython-input-14-3faa0c5131e3>\u001b[0m in \u001b[0;36m<module>\u001b[1;34m()\u001b[0m\n\u001b[0;32m      1\u001b[0m \u001b[0mT\u001b[0m \u001b[1;33m=\u001b[0m \u001b[0mcomputeTrans\u001b[0m\u001b[1;33m(\u001b[0m\u001b[0mG\u001b[0m\u001b[1;33m,\u001b[0m \u001b[0mrock\u001b[0m\u001b[1;33m)\u001b[0m\u001b[1;33m\u001b[0m\u001b[0m\n\u001b[1;32m----> 2\u001b[1;33m \u001b[0mresSol\u001b[0m \u001b[1;33m=\u001b[0m \u001b[0minitResSol\u001b[0m\u001b[1;33m(\u001b[0m\u001b[0mG\u001b[0m\u001b[1;33m,\u001b[0m \u001b[0mp0\u001b[0m\u001b[1;33m=\u001b[0m\u001b[1;36m0.0\u001b[0m\u001b[1;33m)\u001b[0m\u001b[1;33m\u001b[0m\u001b[0m\n\u001b[0m",
      "\u001b[1;31mNameError\u001b[0m: name 'initResSol' is not defined"
     ]
    }
   ],
   "source": [
    "T = computeTrans(G, rock)\n",
    "resSol = initResSol(G, p0=0.0)"
   ]
  },
  {
   "cell_type": "code",
   "execution_count": null,
   "metadata": {
    "collapsed": false
   },
   "outputs": [],
   "source": [
    "# prst/solvers.py\n",
    "\n",
    "def capPressureRHS():\n",
    "    pass\n",
    "\n",
    "def computePressureRHS():\n",
    "    pass\n",
    "\n",
    "def incompTPFA():\n",
    "    pass\n",
    "\n",
    "def _dynamic_quantities():\n",
    "    pass\n",
    "\n",
    "def _compute_trans():\n",
    "    pass"
   ]
  },
  {
   "cell_type": "markdown",
   "metadata": {
    "collapsed": true
   },
   "source": [
    "## incompTPFA"
   ]
  },
  {
   "cell_type": "code",
   "execution_count": null,
   "metadata": {
    "collapsed": true
   },
   "outputs": [],
   "source": [
    "state = resSol\n",
    "G = G\n",
    "T = T\n",
    "fluid = fluid\n",
    "wells = None\n",
    "bc = bc\n",
    "src = None\n",
    "LinSolve = None\n",
    "MatrixOutput = False\n",
    "verbose = None\n",
    "condition_number = False\n",
    "gravity = None"
   ]
  },
  {
   "cell_type": "code",
   "execution_count": null,
   "metadata": {
    "collapsed": false
   },
   "outputs": [],
   "source": [
    "print(bc)"
   ]
  },
  {
   "cell_type": "code",
   "execution_count": 26,
   "metadata": {
    "collapsed": false
   },
   "outputs": [
    {
     "name": "stdout",
     "output_type": "stream",
     "text": [
      "Help on function import_module in module importlib:\n",
      "\n",
      "import_module(name, package=None)\n",
      "    Import a module.\n",
      "    \n",
      "    The 'package' argument is required when performing a relative import. It\n",
      "    specifies the package to use as the anchor point from which to resolve the\n",
      "    relative import to an absolute import.\n",
      "\n"
     ]
    }
   ],
   "source": [
    "import importlib\n",
    "help(importlib.import_module\n",
    ")"
   ]
  },
  {
   "cell_type": "code",
   "execution_count": 8,
   "metadata": {
    "collapsed": false
   },
   "outputs": [
    {
     "ename": "ValueError",
     "evalue": "'package' not set to a string",
     "output_type": "error",
     "traceback": [
      "\u001b[1;31m---------------------------------------------------------------------------\u001b[0m",
      "\u001b[1;31mValueError\u001b[0m                                Traceback (most recent call last)",
      "\u001b[1;32m<ipython-input-8-4a2b9a00dd7b>\u001b[0m in \u001b[0;36m<module>\u001b[1;34m()\u001b[0m\n\u001b[0;32m      1\u001b[0m \u001b[1;32mimport\u001b[0m \u001b[0mimportlib\u001b[0m\u001b[1;33m\u001b[0m\u001b[0m\n\u001b[0;32m      2\u001b[0m \u001b[0mincomp\u001b[0m \u001b[1;33m=\u001b[0m \u001b[0mimportlib\u001b[0m\u001b[1;33m.\u001b[0m\u001b[0mimport_module\u001b[0m\u001b[1;33m(\u001b[0m\u001b[1;34m\"prst.incomp\"\u001b[0m\u001b[1;33m)\u001b[0m\u001b[1;33m\u001b[0m\u001b[0m\n\u001b[1;32m----> 3\u001b[1;33m \u001b[0mincomp\u001b[0m\u001b[1;33m.\u001b[0m\u001b[0mutils\u001b[0m \u001b[1;33m=\u001b[0m \u001b[0mimportlib\u001b[0m\u001b[1;33m.\u001b[0m\u001b[0mimport_module\u001b[0m\u001b[1;33m(\u001b[0m\u001b[1;34m\"..utils\"\u001b[0m\u001b[1;33m,\u001b[0m \u001b[0mincomp\u001b[0m\u001b[1;33m)\u001b[0m\u001b[1;33m\u001b[0m\u001b[0m\n\u001b[0m",
      "\u001b[1;32mM:\\miniconda2-win64\\lib\\importlib\\__init__.pyc\u001b[0m in \u001b[0;36mimport_module\u001b[1;34m(name, package)\u001b[0m\n\u001b[0;32m     34\u001b[0m                 \u001b[1;32mbreak\u001b[0m\u001b[1;33m\u001b[0m\u001b[0m\n\u001b[0;32m     35\u001b[0m             \u001b[0mlevel\u001b[0m \u001b[1;33m+=\u001b[0m \u001b[1;36m1\u001b[0m\u001b[1;33m\u001b[0m\u001b[0m\n\u001b[1;32m---> 36\u001b[1;33m         \u001b[0mname\u001b[0m \u001b[1;33m=\u001b[0m \u001b[0m_resolve_name\u001b[0m\u001b[1;33m(\u001b[0m\u001b[0mname\u001b[0m\u001b[1;33m[\u001b[0m\u001b[0mlevel\u001b[0m\u001b[1;33m:\u001b[0m\u001b[1;33m]\u001b[0m\u001b[1;33m,\u001b[0m \u001b[0mpackage\u001b[0m\u001b[1;33m,\u001b[0m \u001b[0mlevel\u001b[0m\u001b[1;33m)\u001b[0m\u001b[1;33m\u001b[0m\u001b[0m\n\u001b[0m\u001b[0;32m     37\u001b[0m     \u001b[0m__import__\u001b[0m\u001b[1;33m(\u001b[0m\u001b[0mname\u001b[0m\u001b[1;33m)\u001b[0m\u001b[1;33m\u001b[0m\u001b[0m\n\u001b[0;32m     38\u001b[0m     \u001b[1;32mreturn\u001b[0m \u001b[0msys\u001b[0m\u001b[1;33m.\u001b[0m\u001b[0mmodules\u001b[0m\u001b[1;33m[\u001b[0m\u001b[0mname\u001b[0m\u001b[1;33m]\u001b[0m\u001b[1;33m\u001b[0m\u001b[0m\n",
      "\u001b[1;32mM:\\miniconda2-win64\\lib\\importlib\\__init__.pyc\u001b[0m in \u001b[0;36m_resolve_name\u001b[1;34m(name, package, level)\u001b[0m\n\u001b[0;32m      7\u001b[0m     \u001b[1;34m\"\"\"Return the absolute name of the module to be imported.\"\"\"\u001b[0m\u001b[1;33m\u001b[0m\u001b[0m\n\u001b[0;32m      8\u001b[0m     \u001b[1;32mif\u001b[0m \u001b[1;32mnot\u001b[0m \u001b[0mhasattr\u001b[0m\u001b[1;33m(\u001b[0m\u001b[0mpackage\u001b[0m\u001b[1;33m,\u001b[0m \u001b[1;34m'rindex'\u001b[0m\u001b[1;33m)\u001b[0m\u001b[1;33m:\u001b[0m\u001b[1;33m\u001b[0m\u001b[0m\n\u001b[1;32m----> 9\u001b[1;33m         \u001b[1;32mraise\u001b[0m \u001b[0mValueError\u001b[0m\u001b[1;33m(\u001b[0m\u001b[1;34m\"'package' not set to a string\"\u001b[0m\u001b[1;33m)\u001b[0m\u001b[1;33m\u001b[0m\u001b[0m\n\u001b[0m\u001b[0;32m     10\u001b[0m     \u001b[0mdot\u001b[0m \u001b[1;33m=\u001b[0m \u001b[0mlen\u001b[0m\u001b[1;33m(\u001b[0m\u001b[0mpackage\u001b[0m\u001b[1;33m)\u001b[0m\u001b[1;33m\u001b[0m\u001b[0m\n\u001b[0;32m     11\u001b[0m     \u001b[1;32mfor\u001b[0m \u001b[0mx\u001b[0m \u001b[1;32min\u001b[0m \u001b[0mxrange\u001b[0m\u001b[1;33m(\u001b[0m\u001b[0mlevel\u001b[0m\u001b[1;33m,\u001b[0m \u001b[1;36m1\u001b[0m\u001b[1;33m,\u001b[0m \u001b[1;33m-\u001b[0m\u001b[1;36m1\u001b[0m\u001b[1;33m)\u001b[0m\u001b[1;33m:\u001b[0m\u001b[1;33m\u001b[0m\u001b[0m\n",
      "\u001b[1;31mValueError\u001b[0m: 'package' not set to a string"
     ]
    }
   ],
   "source": [
    "import importlib\n",
    "incomp = importlib.import_module(\"prst.incomp\")\n",
    "incomp.utils = importlib.import_module(\"..utils\", incomp)"
   ]
  },
  {
   "cell_type": "code",
   "execution_count": 5,
   "metadata": {
    "collapsed": false
   },
   "outputs": [
    {
     "ename": "AttributeError",
     "evalue": "'module' object has no attribute 'utils'",
     "output_type": "error",
     "traceback": [
      "\u001b[1;31m---------------------------------------------------------------------------\u001b[0m",
      "\u001b[1;31mAttributeError\u001b[0m                            Traceback (most recent call last)",
      "\u001b[1;32m<ipython-input-5-622eaf9eaf03>\u001b[0m in \u001b[0;36m<module>\u001b[1;34m()\u001b[0m\n\u001b[1;32m----> 1\u001b[1;33m \u001b[0mincomp\u001b[0m\u001b[1;33m.\u001b[0m\u001b[0mutils\u001b[0m\u001b[1;33m\u001b[0m\u001b[0m\n\u001b[0m",
      "\u001b[1;31mAttributeError\u001b[0m: 'module' object has no attribute 'utils'"
     ]
    }
   ],
   "source": [
    "incomp.utils"
   ]
  },
  {
   "cell_type": "code",
   "execution_count": null,
   "metadata": {
    "collapsed": true
   },
   "outputs": [],
   "source": []
  }
 ],
 "metadata": {
  "kernelspec": {
   "display_name": "Python 2",
   "language": "python",
   "name": "python2"
  },
  "language_info": {
   "codemirror_mode": {
    "name": "ipython",
    "version": 2
   },
   "file_extension": ".py",
   "mimetype": "text/x-python",
   "name": "python",
   "nbconvert_exporter": "python",
   "pygments_lexer": "ipython2",
   "version": "2.7.11"
  }
 },
 "nbformat": 4,
 "nbformat_minor": 0
}
