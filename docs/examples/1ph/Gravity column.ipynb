{
 "cells": [
  {
   "cell_type": "markdown",
   "metadata": {},
   "source": [
    "# Gravity column\n",
    "\n",
    "This PRST example is based on the \"1ph/gravityColumn.m\" example found in MRST.\n",
    "\n",
    "## MATLAB code\n",
    "\n",
    "The code we are trying to convert to Python is the following:"
   ]
  },
  {
   "cell_type": "markdown",
   "metadata": {},
   "source": [
    "```\n",
    "%% My First Flow Solver: Gravity Column\n",
    "% In this example, we introduce a simple pressure solver and use it to\n",
    "% solve the single-phase pressure equation\n",
    "%\n",
    "% $$\\nabla\\cdot v = q, \\qquad\n",
    "%    v=\\textbf{--}\\frac{K}{\\mu} \\bigl[\\nabla p+\\rho g\\nabla z\\bigr],$$\n",
    "%\n",
    "% within the domain [0,1]x[0,1]x[0,30] using a Cartesian grid with\n",
    "% homogeneous isotropic permeability of 100 mD. The fluid has density 1000\n",
    "% kg/m^3 and viscosity 1 cP and the pressure is 100 bar at the top of the\n",
    "% structure.\n",
    "%\n",
    "% The purpose of the example is to show the basic steps for setting up,\n",
    "% solving, and visualizing a flow problem. More details on the grid\n",
    "% structure, the structure used to hold the solutions, and so on, are given\n",
    "% in the <simpleBC.html basic flow-solver tutorial>.\n",
    "try\n",
    "    require incomp\n",
    "catch %#ok<CTCH>\n",
    "    mrstModule add incomp\n",
    "end\n",
    "\n",
    "%% Define the model\n",
    "% To set up a model, we need: a grid, rock properties (permeability), a\n",
    "% fluid object with density and viscosity, and boundary conditions.\n",
    "gravity reset on\n",
    "G          = cartGrid([1, 1, 30], [1, 1, 30]);\n",
    "G          = computeGeometry(G);\n",
    "rock.perm  = repmat(0.1*darcy(), [G.cells.num, 1]);\n",
    "fluid      = initSingleFluid('mu' ,    1*centi*poise, ...\n",
    "                             'rho', 1014*kilogram/meter^3);\n",
    "bc  = pside([], G, 'TOP', 100.*barsa());\n",
    "\n",
    "%% Assemble and solve the linear system\n",
    "% To solve the flow problem, we use the standard two-point\n",
    "% flux-approximation method (TPFA), which for a Cartesian grid is the same\n",
    "% as a classical seven-point finite-difference scheme for Poisson's\n",
    "% equation. This is done in two steps: first we compute the\n",
    "% transmissibilities and then we assemble and solve the corresponding\n",
    "% discrete system.\n",
    "T   = computeTrans(G, rock);\n",
    "sol = incompTPFA(initResSol(G, 0.0), G, T, fluid, 'bc', bc);\n",
    "\n",
    "%% Plot the face pressures\n",
    "clf\n",
    "plotFaces(G, 1:G.faces.num, convertTo(sol.facePressure, barsa()));\n",
    "set(gca, 'ZDir', 'reverse'), title('Pressure [bar]')\n",
    "view(3), colorbar\n",
    "set(gca,'DataAspect',[1 1 10]);\n",
    "%%\n",
    "displayEndOfDemoMessage(mfilename)\n",
    "```"
   ]
  },
  {
   "cell_type": "markdown",
   "metadata": {},
   "source": [
    "The rest of the example will walk through this example line for line, displaying the PRST examples."
   ]
  },
  {
   "cell_type": "markdown",
   "metadata": {},
   "source": [
    "## Setup\n",
    "\n",
    "**Start by importing PRST.**"
   ]
  },
  {
   "cell_type": "code",
   "execution_count": 20,
   "metadata": {
    "collapsed": false
   },
   "outputs": [],
   "source": [
    "# For Python 3 compatibility\n",
    "from __future__ import absolute_import\n",
    "from __future__ import division\n",
    "from __future__ import print_function\n",
    "from __future__ import unicode_literals\n",
    "\n",
    "import numpy as np\n",
    "\n",
    "import prst\n",
    "import prst.incomp as incomp\n",
    "import prst.gridprocessing as gridprocessing\n",
    "import prst.utils as utils\n",
    "import prst.params as params\n",
    "import prst.solvers as solvers\n",
    "\n",
    "from prst.utils.units import *"
   ]
  },
  {
   "cell_type": "code",
   "execution_count": 21,
   "metadata": {
    "collapsed": false,
    "scrolled": false
   },
   "outputs": [
    {
     "name": "stdout",
     "output_type": "stream",
     "text": [
      "Help on package prst:\n",
      "\n",
      "NAME\n",
      "    prst - Python Reservoir Simulation Toolbox.\n",
      "\n",
      "FILE\n",
      "    m:\\prst\\prst\\__init__.py\n",
      "\n",
      "PACKAGE CONTENTS\n",
      "    gridprocessing\n",
      "    incomp (package)\n",
      "    io\n",
      "    libgeometry (package)\n",
      "    params (package)\n",
      "    plotting\n",
      "    solvers\n",
      "    utils (package)\n",
      "\n",
      "DATA\n",
      "    __all__ = ['gridprocessing', 'io', 'incomp', 'plotting', 'utils', 'par...\n",
      "\n",
      "\n"
     ]
    }
   ],
   "source": [
    "help(prst)"
   ]
  },
  {
   "cell_type": "markdown",
   "metadata": {},
   "source": [
    "## Import the \"incomp\" module\n",
    "```\n",
    "try\n",
    "    require incomp\n",
    "catch %#ok<CTCH>\n",
    "    mrstModule add incomp\n",
    "end\n",
    "```"
   ]
  },
  {
   "cell_type": "markdown",
   "metadata": {},
   "source": [
    "```\n",
    "%% Define the model\n",
    "% To set up a model, we need: a grid, rock properties (permeability), a\n",
    "% fluid object with density and viscosity, and boundary conditions.\n",
    "gravity reset on\n",
    "```"
   ]
  },
  {
   "cell_type": "code",
   "execution_count": 22,
   "metadata": {
    "collapsed": false
   },
   "outputs": [
    {
     "name": "stdout",
     "output_type": "stream",
     "text": [
      "Gravity vector: [ 0.       0.       9.80665]\n"
     ]
    }
   ],
   "source": [
    "# PRST uses a single module-level variable to set the gravity\n",
    "prst.gravity_reset()\n",
    "print(\"Gravity vector:\", prst.gravity)"
   ]
  },
  {
   "cell_type": "markdown",
   "metadata": {},
   "source": [
    "## Build the grid, setup fluid"
   ]
  },
  {
   "cell_type": "markdown",
   "metadata": {},
   "source": [
    "```G          = cartGrid([1, 1, 30], [1, 1, 30]);\n",
    "G          = computeGeometry(G);\n",
    "rock.perm  = repmat(0.1*darcy(), [G.cells.num, 1]);\n",
    "fluid      = initSingleFluid('mu' ,    1*centi*poise, ...\n",
    "                             'rho', 1014*kilogram/meter^3);\n",
    "                             ```"
   ]
  },
  {
   "cell_type": "code",
   "execution_count": 23,
   "metadata": {
    "collapsed": false
   },
   "outputs": [
    {
     "name": "stdout",
     "output_type": "stream",
     "text": [
      "<PRST grid\n",
      "  gridType: ['tensorGrid', 'cartGrid']\n",
      "  cells: ['facePos', 'num', 'indexMap', 'faces']\n",
      "  cartDims: [ 1  1 30]\n",
      "  gridDim: 3\n",
      "  faces: ['neighbors', 'nodes', 'num', 'tag', 'nodePos']\n",
      "  nodes: ['num', 'coords']\n",
      ">\n"
     ]
    }
   ],
   "source": [
    "G = gridprocessing.cartGrid([1, 1, 30], [1, 1, 30])\n",
    "print(G)"
   ]
  },
  {
   "cell_type": "markdown",
   "metadata": {},
   "source": [
    "**Computing the geometry modifies the original grid in place, no assignment is \n",
    "necessary. Note that specifying the module is necessary in PRST.\n",
    "This avoids polluting the global namespace, at the cost of more verbosity.**"
   ]
  },
  {
   "cell_type": "code",
   "execution_count": 24,
   "metadata": {
    "collapsed": false
   },
   "outputs": [
    {
     "name": "stderr",
     "output_type": "stream",
     "text": [
      "INFO:prst:Computing normals, areas and centroids...\n",
      "INFO:prst:Computing cell volumes and centroids\n"
     ]
    },
    {
     "data": {
      "text/plain": [
       "<prst.gridprocessing.Grid at 0x6a4d358>"
      ]
     },
     "execution_count": 24,
     "metadata": {},
     "output_type": "execute_result"
    }
   ],
   "source": [
    "gridprocessing.computeGeometry(G)"
   ]
  },
  {
   "cell_type": "code",
   "execution_count": 25,
   "metadata": {
    "collapsed": false
   },
   "outputs": [],
   "source": [
    "#import scipy\n",
    "#from scipy.sparse import csr_matrix"
   ]
  },
  {
   "cell_type": "code",
   "execution_count": 26,
   "metadata": {
    "collapsed": false
   },
   "outputs": [],
   "source": [
    "rock = params.rock.Rock(G, perm=0.1*darcy, poro=1)"
   ]
  },
  {
   "cell_type": "code",
   "execution_count": 27,
   "metadata": {
    "collapsed": false
   },
   "outputs": [
    {
     "name": "stdout",
     "output_type": "stream",
     "text": [
      "{'mu': 0.001, 'rho': 1014.0}\n"
     ]
    }
   ],
   "source": [
    "fluid = incomp.fluid.SingleFluid(viscosity=1*centi*poise, density=1014*kilogram/meter**3)\n",
    "print(fluid)"
   ]
  },
  {
   "cell_type": "markdown",
   "metadata": {},
   "source": [
    "**Set up boundary conditions. Constant pressure at top face.**"
   ]
  },
  {
   "cell_type": "code",
   "execution_count": 28,
   "metadata": {
    "collapsed": false
   },
   "outputs": [
    {
     "data": {
      "text/plain": [
       "<prst.params.wells_and_bc.BoundaryCondition at 0x6a4d198>"
      ]
     },
     "execution_count": 28,
     "metadata": {},
     "output_type": "execute_result"
    }
   ],
   "source": [
    "bc = params.wells_and_bc.BoundaryCondition()\n",
    "bc.addPressureSide(G, \"top\", 100*bar)\n",
    "\n"
   ]
  },
  {
   "cell_type": "code",
   "execution_count": 29,
   "metadata": {
    "collapsed": false
   },
   "outputs": [
    {
     "name": "stdout",
     "output_type": "stream",
     "text": [
      "{'sat': None, 'type': array([['pressure']], \n",
      "      dtype='|S8'), 'value': array([[ 10000000.]]), 'face': array([[120]])}\n"
     ]
    }
   ],
   "source": [
    "print(bc)"
   ]
  },
  {
   "cell_type": "markdown",
   "metadata": {},
   "source": [
    "## Assemble and solve the linear system\n",
    "```\n",
    "%% Assemble and solve the linear system\n",
    "% To solve the flow problem, we use the standard two-point\n",
    "% flux-approximation method (TPFA), which for a Cartesian grid is the same\n",
    "% as a classical seven-point finite-difference scheme for Poisson's\n",
    "% equation. This is done in two steps: first we compute the\n",
    "% transmissibilities and then we assemble and solve the corresponding\n",
    "% discrete system.\n",
    "T   = computeTrans(G, rock);\n",
    "sol = incompTPFA(initResSol(G, 0.0), G, T, fluid, 'bc', bc);\n",
    "```"
   ]
  },
  {
   "cell_type": "code",
   "execution_count": 30,
   "metadata": {
    "collapsed": false
   },
   "outputs": [],
   "source": [
    "T = solvers.computeTrans(G, rock)\n",
    "resSol = solvers.initResSol(G, p0=0.0)"
   ]
  },
  {
   "cell_type": "code",
   "execution_count": 31,
   "metadata": {
    "collapsed": false
   },
   "outputs": [],
   "source": [
    "# prst/solvers.py\n",
    "\n",
    "def capPressureRHS():\n",
    "    pass\n",
    "\n",
    "def computePressureRHS():\n",
    "    pass\n",
    "\n",
    "def incompTPFA():\n",
    "    pass\n",
    "\n",
    "def _dynamic_quantities():\n",
    "    pass\n",
    "\n",
    "def _compute_trans():\n",
    "    pass"
   ]
  },
  {
   "cell_type": "markdown",
   "metadata": {},
   "source": [
    "## getCellNoFaces"
   ]
  },
  {
   "cell_type": "code",
   "execution_count": 32,
   "metadata": {
    "collapsed": false
   },
   "outputs": [],
   "source": [
    "\n",
    "# prst/gridtools.py\n",
    "# Find the cell index of each face for each cell\n",
    "\n",
    "def getCellNoFaces(G):\n",
    "    \"\"\"\n",
    "    %Get a list over all half faces, accounting for possible NNC\n",
    "    %\n",
    "    % SYNOPSIS:\n",
    "    %   [cellNo, cellFaces, isNNC] = getCellNoFaces(G)\n",
    "    %\n",
    "    % DESCRIPTION:\n",
    "    %   This utility function is used to produce a listing of all half faces\n",
    "    %   in a grid along with the respective cells they belong to. While\n",
    "    %   relatively trivial for most grids, this function specifically accounts\n",
    "    %   for non-neighboring connections / NNC.\n",
    "    %\n",
    "    % REQUIRED PARAMETERS:\n",
    "    %   G         - Grid structure with optional .nnc.cells field.\n",
    "    %\n",
    "    % RETURNS:\n",
    "    %   cellNo    - A list of length number of geometric half-faces + 2* no. nnc\n",
    "    %             connections where each entry corresponds to the cell index of\n",
    "    %             that half face.\n",
    "    %\n",
    "    %   cellFaces - A list of length number of geometric half-faces + 2* number\n",
    "    %             of nnc connections where each entry is the connection index.\n",
    "    %             For the first entries, this is simply the face number.\n",
    "    %             Otherwise, it is the entry of the NNC connection.\n",
    "    %\n",
    "    %   isNNC     - A list with the same length as cellNo / cellFaces,\n",
    "    %               containing a boolean indicating if that specific connection\n",
    "    %               originates from a geometric face or a NNC connection\n",
    "    % SEE ALSO:\n",
    "    %   rldecode\n",
    "    \"\"\"\n",
    "    cellNo = utils.rldecode(np.arange(G.cells.num), np.diff(G.cells.facePos,axis=0))[:,np.newaxis]\n",
    "    cellFaces = G.cells.faces[:,0][:,np.newaxis]\n",
    "\n",
    "    # Mapping to show which entries in cellNo/cellFaces are resulting from\n",
    "    # NNC and not actual geometric faces.\n",
    "    isNNC = np.zeros((len(cellNo), 1), dtype=np.bool)\n",
    "\n",
    "    # If NNC is present, we add these extra connections to cellNo \n",
    "    # and cellFaces to allow consisten treatment.\n",
    "    if hasattr(G, 'nnc') and hasattr(G.nnc, \"cells\"):\n",
    "        prst.warning(\"getCellNoFaces is untested for grids with NNC. Compare results with MRST.\")\n",
    "        # Stack columns into a single column\n",
    "        nnc_cells = np.r_[G.nnc.cells[:,0], G.nnc.cells[:,1]][:,np.newaxis]\n",
    "        # NNC is located at the end after the regular faces\n",
    "        nnc_faceno = G.faces.num + np.arange(G.nnc.cells.shape[0])[:,np.newaxis]\n",
    "        cellNo = np.r_[cellNo, nnc_cells] # Stack as 2d column\n",
    "        cellFaces = np.r_[cellFaces, nnc_faceno, nnc_faceno] # Stack as column\n",
    "        # Added connections are NNC\n",
    "        isNNC = np.r_[isNNC, np.ones((len(nnc_cells),1), dtype=np.bool)]\n",
    "    return cellNo, cellFaces, isNNC"
   ]
  },
  {
   "cell_type": "markdown",
   "metadata": {},
   "source": [
    "## computePressureRHS"
   ]
  },
  {
   "cell_type": "code",
   "execution_count": 64,
   "metadata": {
    "collapsed": true
   },
   "outputs": [],
   "source": [
    "from numpy_groupies.aggregate_numpy import aggregate\n",
    "\n",
    "def computePressureRHS(G, omega, bc, src):\n",
    "    \"\"\"\n",
    "    %Compute right-hand side contributions to pressure linear system.\n",
    "    %\n",
    "    % SYNOPSIS:\n",
    "    %   [f, g, h, grav, dF, dC] = computePressureRHS(G, omega, bc, src)\n",
    "    %\n",
    "    % DESCRIPTION:\n",
    "    %   The contributions to the right-hand side for mimetic, two-point and\n",
    "    %   multi-point discretisations of the equations for pressure and total\n",
    "    %   velocity\n",
    "    %\n",
    "    %     v + lam KÂ·grad (p - gÂ·z omega) = 0\n",
    "    %     div v  = q\n",
    "    %\n",
    "    %   with\n",
    "    %             __\n",
    "    %             \\    kr_i/\n",
    "    %     lam   = /       / mu_i\n",
    "    %             -- i\n",
    "    %             __\n",
    "    %             \\\n",
    "    %     omega = /    f_iÂ·rho_i\n",
    "    %             -- i\n",
    "    %\n",
    "    % PARAMETERS:\n",
    "    %   G     - Grid data structure.\n",
    "    %\n",
    "    %   omega - Accumulated phase densities \\rho_i weighted by fractional flow\n",
    "    %           functions f_i -- i.e., omega = \\sum_i \\rho_i f_i.  One scalar\n",
    "    %           value for each cell in the discretised reservoir model, G.\n",
    "    %\n",
    "    %   bc    - Boundary condition structure as defined by function 'addBC'.\n",
    "    %           This structure accounts for all external boundary conditions to\n",
    "    %           the reservoir flow.  May be empty (i.e., bc = struct([])) which\n",
    "    %           is interpreted as all external no-flow (homogeneous Neumann)\n",
    "    %           conditions.\n",
    "    %\n",
    "    %   src   - Explicit source contributions as defined by function\n",
    "    %           'addSource'.  May be empty (i.e., src = struct([])) which is\n",
    "    %           interpreted as a reservoir model without explicit sources.\n",
    "    %\n",
    "    % RETURNS:\n",
    "    %   f, g, h - Pressure (f), source/sink (g), and flux (h) external\n",
    "    %             conditions.  In a problem without effects of gravity, these\n",
    "    %             values may be passed directly on to linear system solvers\n",
    "    %             such as 'schurComplementSymm'.\n",
    "    %\n",
    "    %   grav    - Pressure contributions from gravity,\n",
    "    %\n",
    "    %                grav = omegaÂ·gÂ·(x_face - x_cell)\n",
    "    %\n",
    "    %             where\n",
    "    %\n",
    "    %                omega = \\sum_i f_i\\rho_i,\n",
    "    %\n",
    "    %             thus grav is a vector with one scalar value for each\n",
    "    %             half-face in the model (size(G.cells.faces,1)).\n",
    "    %\n",
    "    %   dF, dC  - Dirichlet/pressure condition structure.  Logical array 'dF'\n",
    "    %             is true for those faces that have prescribed pressures, while\n",
    "    %             the corresponding prescribed pressure values are listed in\n",
    "    %             'dC'.  The number of elements in 'dC' is SUM(DOUBLE(dF)).\n",
    "    %\n",
    "    %             This structure may be used to eliminate known face pressures\n",
    "    %             from the linear system before calling a system solver (e.g.,\n",
    "    %             'schurComplementSymm').\n",
    "    %\n",
    "    % SEE ALSO:\n",
    "    %   addBC, addSource, computeMimeticIP, schurComplementSymm.\n",
    "    \"\"\"\n",
    "    if hasattr(G, \"grav_pressure\"):\n",
    "        gp = G.grav_pressure(G, omega)\n",
    "    else:\n",
    "        gp = _grav_pressure(G, omega)\n",
    "        \n",
    "    ff = np.zeros(gp.shape)\n",
    "    gg = np.zeros((G.cells.num, 1))\n",
    "    hh = np.zeros((G.faces.num, 1))\n",
    "    \n",
    "    # Source terms\n",
    "    if not src is None:\n",
    "        prst.warning(\"computePressureRHS is untested for src != None\")\n",
    "        # Compatability check of cell numbers for source terms\n",
    "        assert np.max(src.cell) < G.cells.num and np.min(src.cell) >= 0, \\\n",
    "            \"Source terms refer to cell not existant in grid.\"\n",
    "        \n",
    "        # Sum source terms inside each cell and add to rhs\n",
    "        ss = aggregate(src.cell, src.rate)\n",
    "        ii = aggregate(src.cell, 1) > 0\n",
    "        gg[ii] += ss[ii]\n",
    "    \n",
    "    dF = np.zeros((G.faces.num, 1), dtype=bool)\n",
    "    dC = None\n",
    "    \n",
    "    if not bc is None:\n",
    "        # Check that bc and G are compatible\n",
    "        assert np.max(bc.face) < G.faces.num and np.min(bc.face) >= 0, \\\n",
    "            \"Boundary condition refers to face not existant in grid.\"\n",
    "        assert np.all(aggregate(bc.face, 1)) <= 1, \\\n",
    "            \"There are repeated faces in boundary condition.\"\n",
    "            \n",
    "        # Pressure (Dirichlet) boundary conditions.\n",
    "        # 1) Extract the faces marked as defining pressure conditions.\n",
    "        #    Define a local numbering (map) of the face indices to the\n",
    "        #    pressure condition values.\n",
    "        is_press = bc.type == \"pressure\"\n",
    "        face = bc.face[is_press]\n",
    "        dC = bc.value[is_press]\n",
    "        map = scipy.sparse.csc_matrix( (np.arange(face.size),\n",
    "                                     (face.ravel(), np.zeros(face.size)))  )\n",
    "        \n",
    "        # 2) For purpose of (mimetic) pressure solvers, mark the \"face\"s as\n",
    "        #    having pressure boundary conditions. This information will be used\n",
    "        #    to eliminate known pressures from the resulting system of linear\n",
    "        #    equations. See e.g. `solveIncompFlow` in MRST.\n",
    "        dF[face] = True\n",
    "        \n",
    "        # 3) Enter Dirichlet conditions into system right hand side.\n",
    "        #    Relies implicitly on boundary faces being mentioned exactly once\n",
    "        #    in G.cells.faces[:,0].\n",
    "        i = dF[G.cells.faces[:,0],:]\n",
    "        ff[i] = -dC[map[ G.cells.faces[i[:,0],0],0].toarray().ravel()]\n",
    "        \n",
    "        # 4) Reorder Dirichlet conditions according to sort(face).\n",
    "        #    This allows the caller to issue statements such as \n",
    "        #    `X[dF] = dC` even when dF is boolean.\n",
    "        dC = dC[map[dF[:,0],0].toarray().ravel()]\n",
    "        \n",
    "        # Flux (Neumann) boundary conditions.\n",
    "        # Note negative sign due to bc.value representing INJECTION flux.\n",
    "        is_flux = bc.type == \"flux\"\n",
    "        hh[bc.face[is_flux],0] = -bc.value[is_flux]\n",
    "        \n",
    "    if not dC is None:\n",
    "        assert not np.any(dC < 0)\n",
    "        \n",
    "    return ff, gg, hh, gp, dF, dC\n",
    "        \n",
    "def _grav_pressure(G, omega):\n",
    "    # Computes innerproduct cf (face_centroid - cell_centroid) * g for each face\n",
    "    g_vec = prst.gravity\n",
    "    if np.linalg.norm(g_vec[:G.gridDim]) > 0:\n",
    "        dim = G.gridDim\n",
    "        assert 1 <= dim <= 3, \"Wrong grid dimension\"\n",
    "        \n",
    "        cellno = utils.rldecode(np.arange(G.cells.num), np.diff(G.cells.facePos, axis=0))\n",
    "        cvec = G.faces.centroids[G.cells.faces[:,0],:] - G.cells.centroids[cellno,:]\n",
    "        ff = omega[cellno] * np.dot(cvec, g_vec[:dim].reshape([3,1]))\n",
    "    else:\n",
    "        ff = np.zeros([G.cells.faces.shape[0], 1])\n",
    "    return ff"
   ]
  },
  {
   "cell_type": "code",
   "execution_count": 34,
   "metadata": {
    "collapsed": false
   },
   "outputs": [
    {
     "data": {
      "text/plain": [
       "array([[1],\n",
       "       [2],\n",
       "       [3]])"
      ]
     },
     "execution_count": 34,
     "metadata": {},
     "output_type": "execute_result"
    }
   ],
   "source": [
    "np.reshape([1,2,3], [3,-1])"
   ]
  },
  {
   "cell_type": "markdown",
   "metadata": {
    "collapsed": true
   },
   "source": [
    "## incompTPFA"
   ]
  },
  {
   "cell_type": "code",
   "execution_count": 51,
   "metadata": {
    "collapsed": false
   },
   "outputs": [],
   "source": [
    "# prst/solvers.py\n",
    "def _compute_trans(G, T, cellNo, cellFaces, neighborship, totmob, use_trans):\n",
    "    niface = neighborship.shape[0]\n",
    "    if use_trans:\n",
    "        neighborcount = np.sum(neighborship != -1, axis=1, keepdims=True)\n",
    "        assert T.shape[0] == niface, \\\n",
    "            \"Expected one transmissibility for each interface \" + \\\n",
    "            \"(={}) but got {}\".format(niface, T.shape[0])\n",
    "        raise NotImplementedError(\"Function not yet implemented for use_trans=True. See source code.\")\n",
    "        # Matlab code for rest of function, from mrst-2015b\\modules\\incomp\\incompTPFA.m\n",
    "        #fmob = accumarray(cellFaces, totmob(cellNo), ...\n",
    "        #                    [niface, 1]);\n",
    "        #\n",
    "        #fmob = fmob ./ neighborcount;\n",
    "        #ft   = T .* fmob;\n",
    "        #\n",
    "        #% Synthetic one-sided transmissibilities.\n",
    "        #th = ft .* neighborcount;\n",
    "        #T  = th(cellFaces(:,1));\n",
    "    else:\n",
    "        # Define face transmissibility as harmonic average of mobility \n",
    "        # weighted one-sided transmissibilities.\n",
    "        assert T.shape[0] == cellNo.shape[0], \\\n",
    "            \"Expected one one-sided transmissibility for each \" +\\\n",
    "            \"half face (={}), but got {}.\".format(cellNo.shape[0], T.shape[0])\n",
    "\n",
    "        T = T * totmob[cellNo[:,0],:]\n",
    "        from numpy_groupies.aggregate_numpy import aggregate\n",
    "        ft = 1/aggregate(cellFaces[:,0], 1/T[:,0])\n",
    "    return T, ft"
   ]
  },
  {
   "cell_type": "code",
   "execution_count": 36,
   "metadata": {
    "collapsed": false
   },
   "outputs": [],
   "source": [
    "def _dynamic_quantities(state, fluid):\n",
    "    mu, rho = fluid.viscosity(), fluid.density()\n",
    "    s = fluid.saturation(state)\n",
    "    kr = fluid.relperm(s)\n",
    "\n",
    "    mob = kr / mu\n",
    "    totmob = np.sum(mob, axis=1, keepdims=True)\n",
    "    omega = np.sum(mob*rho, axis=1, keepdims=True) / totmob\n",
    "    return mob, omega, rho"
   ]
  },
  {
   "cell_type": "code",
   "execution_count": 74,
   "metadata": {
    "collapsed": false,
    "scrolled": true
   },
   "outputs": [
    {
     "name": "stdout",
     "output_type": "stream",
     "text": [
      "Setting up linear system...\n"
     ]
    },
    {
     "ename": "NotImplementedError",
     "evalue": "complete the function",
     "output_type": "error",
     "traceback": [
      "\u001b[1;31m---------------------------------------------------------------------------\u001b[0m",
      "\u001b[1;31mNotImplementedError\u001b[0m                       Traceback (most recent call last)",
      "\u001b[1;32m<ipython-input-74-e206dbef9ee8>\u001b[0m in \u001b[0;36m<module>\u001b[1;34m()\u001b[0m\n\u001b[0;32m     71\u001b[0m \u001b[0mgrav\u001b[0m\u001b[1;33m,\u001b[0m \u001b[0mff\u001b[0m \u001b[1;33m=\u001b[0m \u001b[0mnp\u001b[0m\u001b[1;33m.\u001b[0m\u001b[0mzeros\u001b[0m\u001b[1;33m(\u001b[0m\u001b[1;33m(\u001b[0m\u001b[0mncf\u001b[0m\u001b[1;33m,\u001b[0m \u001b[1;36m1\u001b[0m\u001b[1;33m)\u001b[0m\u001b[1;33m)\u001b[0m\u001b[1;33m,\u001b[0m \u001b[0mnp\u001b[0m\u001b[1;33m.\u001b[0m\u001b[0mzeros\u001b[0m\u001b[1;33m(\u001b[0m\u001b[1;33m(\u001b[0m\u001b[0mncf\u001b[0m\u001b[1;33m,\u001b[0m \u001b[1;36m1\u001b[0m\u001b[1;33m)\u001b[0m\u001b[1;33m)\u001b[0m\u001b[1;33m\u001b[0m\u001b[0m\n\u001b[0;32m     72\u001b[0m \u001b[0mcn_notnnc\u001b[0m \u001b[1;33m=\u001b[0m \u001b[0mnp\u001b[0m\u001b[1;33m.\u001b[0m\u001b[0mlogical_not\u001b[0m\u001b[1;33m(\u001b[0m\u001b[0mcn_isnnc\u001b[0m\u001b[1;33m)\u001b[0m\u001b[1;33m[\u001b[0m\u001b[1;33m:\u001b[0m\u001b[1;33m,\u001b[0m\u001b[1;36m0\u001b[0m\u001b[1;33m]\u001b[0m\u001b[1;33m\u001b[0m\u001b[0m\n\u001b[1;32m---> 73\u001b[1;33m \u001b[1;32mraise\u001b[0m \u001b[0mNotImplementedError\u001b[0m\u001b[1;33m(\u001b[0m\u001b[1;34m\"complete the function\"\u001b[0m\u001b[1;33m)\u001b[0m\u001b[1;33m\u001b[0m\u001b[0m\n\u001b[0m\u001b[0;32m     74\u001b[0m \u001b[1;31m# ff, gg, grav, dF, dC\u001b[0m\u001b[1;33m\u001b[0m\u001b[1;33m\u001b[0m\u001b[0m\n\u001b[0;32m     75\u001b[0m \u001b[1;31m#ff[cn_notnnc,:], gg, hh[cn_notnnc,:], grav[cn_notnnc,:], dF[cn_notnnc,:], dC = computePressureRHS(G, omega, bc, src)\u001b[0m\u001b[1;33m\u001b[0m\u001b[1;33m\u001b[0m\u001b[0m\n",
      "\u001b[1;31mNotImplementedError\u001b[0m: complete the function"
     ]
    }
   ],
   "source": [
    "import time\n",
    "import prst\n",
    "import scipy.sparse.linalg\n",
    "\n",
    "\n",
    "\n",
    "state = resSol\n",
    "G = G\n",
    "T = T\n",
    "fluid = fluid\n",
    "wells = None\n",
    "bc = bc\n",
    "bcp = None\n",
    "src = None\n",
    "LinSolve = None\n",
    "MatrixOutput = False\n",
    "verbose = True\n",
    "condition_number = False\n",
    "gravity = None\n",
    "pc_form = \"nonwetting\"\n",
    "use_trans = False\n",
    "\n",
    "if wells is None:\n",
    "    wells = []\n",
    "if LinSolve is None:\n",
    "    LinSolve = scipy.sparse.linalg.spsolve\n",
    "if verbose is None:\n",
    "    verbose = prst.verbosity\n",
    "if gravity is None:\n",
    "    gravity = prst.gravity\n",
    "\n",
    "    \n",
    "g_vec = gravity\n",
    "# If gravity is overridden, we cannot say anything about the effects of gravity on rhs.\n",
    "grav = np.linalg.norm(g_vec[0:G.gridDim]) > 0 or hasattr(G, 'grav_pressure')\n",
    "\n",
    "if all([not MatrixOutput, \n",
    "        bc is None,\n",
    "        src is None,\n",
    "        bcp is None,\n",
    "        wells is None,\n",
    "        not grav]):\n",
    "    prst.log.warn(\"No external driving forces present in model, state remains unchanged.\")\n",
    "    \n",
    "if verbose:\n",
    "    print(\"Setting up linear system...\")\n",
    "    t0 = time.time()\n",
    "\n",
    "# Preliminaries\n",
    "neighborship, n_isnnc = utils.gridtools.getNeighborship(G, \"Topological\", True, nargout=2)\n",
    "utils.gridtools.getCellNoFaces = getCellNoFaces # TODO \n",
    "cellNo, cf, cn_isnnc = getCellNoFaces(G) # TODO\n",
    "nif = neighborship.shape[0]\n",
    "ncf = cf.shape[0]\n",
    "nc = G.cells.num\n",
    "nw = len(wells)\n",
    "n = nc + nw\n",
    "\n",
    "mob, omega, rho = _dynamic_quantities(state, fluid)\n",
    "totmob = np.sum(mob, axis=1, keepdims=True)\n",
    "\n",
    "# Compute effective (mobility-weighted) transmissibilities\n",
    "T, ft = _compute_trans(G, T, cellNo, cf, neighborship, totmob, use_trans=False)\n",
    "\n",
    "# Identify internal faces\n",
    "i = np.all(neighborship != -1, axis=1)\n",
    "\n",
    "# Boundary conditions and source terms\n",
    "hh = np.zeros((nif, 1))\n",
    "dF = np.zeros((nif, 1), dtype=bool)\n",
    "grav, ff = np.zeros((ncf, 1)), np.zeros((ncf, 1))\n",
    "cn_notnnc = np.logical_not(cn_isnnc)[:,0]\n",
    "raise NotImplementedError(\"complete the function\")\n",
    "# ff, gg, grav, dF, dC\n",
    "#ff[cn_notnnc,:], gg, hh[cn_notnnc,:], grav[cn_notnnc,:], dF[cn_notnnc,:], dC = computePressureRHS(G, omega, bc, src)"
   ]
  },
  {
   "cell_type": "code",
   "execution_count": 73,
   "metadata": {
    "collapsed": false,
    "scrolled": true
   },
   "outputs": [
    {
     "data": {
      "text/plain": [
       "array([ 10000000.])"
      ]
     },
     "execution_count": 73,
     "metadata": {},
     "output_type": "execute_result"
    }
   ],
   "source": [
    "LOL[5]"
   ]
  },
  {
   "cell_type": "code",
   "execution_count": null,
   "metadata": {
    "collapsed": false
   },
   "outputs": [],
   "source": [
    "fff = np.array([[121, 122, 123]]).transpose()\n"
   ]
  }
 ],
 "metadata": {
  "kernelspec": {
   "display_name": "Python 2",
   "language": "python",
   "name": "python2"
  },
  "language_info": {
   "codemirror_mode": {
    "name": "ipython",
    "version": 2
   },
   "file_extension": ".py",
   "mimetype": "text/x-python",
   "name": "python",
   "nbconvert_exporter": "python",
   "pygments_lexer": "ipython2",
   "version": "2.7.11"
  }
 },
 "nbformat": 4,
 "nbformat_minor": 0
}
