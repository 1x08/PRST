{
 "cells": [
  {
   "cell_type": "markdown",
   "metadata": {},
   "source": [
    "# Gravity column\n",
    "\n",
    "This PRST example is based on the \"1ph/gravityColumn.m\" example found in MRST.\n",
    "\n",
    "## MATLAB code\n",
    "\n",
    "The code we are trying to convert to Python is the following:"
   ]
  },
  {
   "cell_type": "markdown",
   "metadata": {},
   "source": [
    "```\n",
    "%% My First Flow Solver: Gravity Column\n",
    "% In this example, we introduce a simple pressure solver and use it to\n",
    "% solve the single-phase pressure equation\n",
    "%\n",
    "% $$\\nabla\\cdot v = q, \\qquad\n",
    "%    v=\\textbf{--}\\frac{K}{\\mu} \\bigl[\\nabla p+\\rho g\\nabla z\\bigr],$$\n",
    "%\n",
    "% within the domain [0,1]x[0,1]x[0,30] using a Cartesian grid with\n",
    "% homogeneous isotropic permeability of 100 mD. The fluid has density 1000\n",
    "% kg/m^3 and viscosity 1 cP and the pressure is 100 bar at the top of the\n",
    "% structure.\n",
    "%\n",
    "% The purpose of the example is to show the basic steps for setting up,\n",
    "% solving, and visualizing a flow problem. More details on the grid\n",
    "% structure, the structure used to hold the solutions, and so on, are given\n",
    "% in the <simpleBC.html basic flow-solver tutorial>.\n",
    "try\n",
    "    require incomp\n",
    "catch %#ok<CTCH>\n",
    "    mrstModule add incomp\n",
    "end\n",
    "\n",
    "%% Define the model\n",
    "% To set up a model, we need: a grid, rock properties (permeability), a\n",
    "% fluid object with density and viscosity, and boundary conditions.\n",
    "gravity reset on\n",
    "G          = cartGrid([1, 1, 30], [1, 1, 30]);\n",
    "G          = computeGeometry(G);\n",
    "rock.perm  = repmat(0.1*darcy(), [G.cells.num, 1]);\n",
    "fluid      = initSingleFluid('mu' ,    1*centi*poise, ...\n",
    "                             'rho', 1014*kilogram/meter^3);\n",
    "bc  = pside([], G, 'TOP', 100.*barsa());\n",
    "\n",
    "%% Assemble and solve the linear system\n",
    "% To solve the flow problem, we use the standard two-point\n",
    "% flux-approximation method (TPFA), which for a Cartesian grid is the same\n",
    "% as a classical seven-point finite-difference scheme for Poisson's\n",
    "% equation. This is done in two steps: first we compute the\n",
    "% transmissibilities and then we assemble and solve the corresponding\n",
    "% discrete system.\n",
    "T   = computeTrans(G, rock);\n",
    "sol = incompTPFA(initResSol(G, 0.0), G, T, fluid, 'bc', bc);\n",
    "\n",
    "%% Plot the face pressures\n",
    "clf\n",
    "plotFaces(G, 1:G.faces.num, convertTo(sol.facePressure, barsa()));\n",
    "set(gca, 'ZDir', 'reverse'), title('Pressure [bar]')\n",
    "view(3), colorbar\n",
    "set(gca,'DataAspect',[1 1 10]);\n",
    "%%\n",
    "displayEndOfDemoMessage(mfilename)\n",
    "```"
   ]
  },
  {
   "cell_type": "markdown",
   "metadata": {},
   "source": [
    "The rest of the example will walk through this example line for line, displaying the PRST examples."
   ]
  },
  {
   "cell_type": "markdown",
   "metadata": {},
   "source": [
    "## Setup\n",
    "\n",
    "**Start by importing PRST.**"
   ]
  },
  {
   "cell_type": "code",
   "execution_count": 1,
   "metadata": {
    "collapsed": false
   },
   "outputs": [],
   "source": [
    "# For Python 3 compatibility\n",
    "from __future__ import absolute_import\n",
    "from __future__ import division\n",
    "from __future__ import print_function\n",
    "from __future__ import unicode_literals\n",
    "\n",
    "import numpy as np\n",
    "\n",
    "import prst\n",
    "import prst.incomp as incomp\n",
    "import prst.gridprocessing as gridprocessing\n",
    "import prst.utils as utils\n",
    "import prst.params as params\n",
    "import prst.solvers as solvers\n",
    "\n",
    "from prst.utils.units import *"
   ]
  },
  {
   "cell_type": "code",
   "execution_count": 2,
   "metadata": {
    "collapsed": false,
    "scrolled": false
   },
   "outputs": [
    {
     "name": "stdout",
     "output_type": "stream",
     "text": [
      "Help on package prst:\n",
      "\n",
      "NAME\n",
      "    prst - Python Reservoir Simulation Toolbox.\n",
      "\n",
      "FILE\n",
      "    m:\\prst\\prst\\__init__.py\n",
      "\n",
      "PACKAGE CONTENTS\n",
      "    gridprocessing\n",
      "    incomp (package)\n",
      "    io\n",
      "    params (package)\n",
      "    plotting\n",
      "    solvers\n",
      "    utils (package)\n",
      "\n",
      "DATA\n",
      "    __all__ = ['gridprocessing', 'io', 'incomp', 'plotting', 'utils', 'par...\n",
      "\n",
      "\n"
     ]
    }
   ],
   "source": [
    "help(prst)"
   ]
  },
  {
   "cell_type": "markdown",
   "metadata": {},
   "source": [
    "## Import the \"incomp\" module\n",
    "```\n",
    "try\n",
    "    require incomp\n",
    "catch %#ok<CTCH>\n",
    "    mrstModule add incomp\n",
    "end\n",
    "```"
   ]
  },
  {
   "cell_type": "markdown",
   "metadata": {},
   "source": [
    "```\n",
    "%% Define the model\n",
    "% To set up a model, we need: a grid, rock properties (permeability), a\n",
    "% fluid object with density and viscosity, and boundary conditions.\n",
    "gravity reset on\n",
    "```"
   ]
  },
  {
   "cell_type": "code",
   "execution_count": 3,
   "metadata": {
    "collapsed": false
   },
   "outputs": [
    {
     "name": "stdout",
     "output_type": "stream",
     "text": [
      "Gravity vector: [ 0.       0.       9.80665]\n"
     ]
    }
   ],
   "source": [
    "# PRST uses a single module-level variable to set the gravity\n",
    "prst.gravity_reset()\n",
    "print(\"Gravity vector:\", prst.gravity)"
   ]
  },
  {
   "cell_type": "markdown",
   "metadata": {},
   "source": [
    "## Build the grid, setup fluid"
   ]
  },
  {
   "cell_type": "markdown",
   "metadata": {},
   "source": [
    "```G          = cartGrid([1, 1, 30], [1, 1, 30]);\n",
    "G          = computeGeometry(G);\n",
    "rock.perm  = repmat(0.1*darcy(), [G.cells.num, 1]);\n",
    "fluid      = initSingleFluid('mu' ,    1*centi*poise, ...\n",
    "                             'rho', 1014*kilogram/meter^3);\n",
    "                             ```"
   ]
  },
  {
   "cell_type": "code",
   "execution_count": 4,
   "metadata": {
    "collapsed": false
   },
   "outputs": [
    {
     "name": "stdout",
     "output_type": "stream",
     "text": [
      "<PRST grid\n",
      "  gridType: ['tensorGrid', 'cartGrid']\n",
      "  cells: ['facePos', 'num', 'indexMap', 'faces']\n",
      "  cartDims: [ 1  1 30]\n",
      "  gridDim: 3\n",
      "  faces: ['neighbors', 'nodes', 'num', 'tag', 'nodePos']\n",
      "  nodes: ['num', 'coords']\n",
      ">\n"
     ]
    }
   ],
   "source": [
    "G = gridprocessing.cartGrid([1, 1, 30], [1, 1, 30])\n",
    "print(G)"
   ]
  },
  {
   "cell_type": "markdown",
   "metadata": {},
   "source": [
    "**Computing the geometry modifies the original grid in place, no assignment is \n",
    "necessary. Note that specifying the module is necessary in PRST.\n",
    "This avoids polluting the global namespace, at the cost of more verbosity.**"
   ]
  },
  {
   "cell_type": "code",
   "execution_count": 5,
   "metadata": {
    "collapsed": false
   },
   "outputs": [
    {
     "name": "stderr",
     "output_type": "stream",
     "text": [
      "INFO:prst:Computing normals, areas and centroids...\n",
      "INFO:prst:Computing cell volumes and centroids\n"
     ]
    },
    {
     "data": {
      "text/plain": [
       "<prst.gridprocessing.Grid at 0x466bc88>"
      ]
     },
     "execution_count": 5,
     "metadata": {},
     "output_type": "execute_result"
    }
   ],
   "source": [
    "gridprocessing.computeGeometry(G)"
   ]
  },
  {
   "cell_type": "code",
   "execution_count": 6,
   "metadata": {
    "collapsed": false
   },
   "outputs": [],
   "source": [
    "#import scipy\n",
    "#from scipy.sparse import csr_matrix"
   ]
  },
  {
   "cell_type": "code",
   "execution_count": 7,
   "metadata": {
    "collapsed": false
   },
   "outputs": [],
   "source": [
    "rock = params.rock.Rock(G, perm=0.1*darcy, poro=1)"
   ]
  },
  {
   "cell_type": "code",
   "execution_count": 8,
   "metadata": {
    "collapsed": false
   },
   "outputs": [
    {
     "name": "stdout",
     "output_type": "stream",
     "text": [
      "{'mu': 0.001, 'rho': 1014.0}\n"
     ]
    }
   ],
   "source": [
    "fluid = incomp.fluid.SingleFluid(viscosity=1*centi*poise, density=1014*kilogram/meter**3)\n",
    "print(fluid)"
   ]
  },
  {
   "cell_type": "markdown",
   "metadata": {},
   "source": [
    "**Set up boundary conditions. Constant pressure at top face.**"
   ]
  },
  {
   "cell_type": "code",
   "execution_count": 9,
   "metadata": {
    "collapsed": false
   },
   "outputs": [
    {
     "data": {
      "text/plain": [
       "<prst.params.wells_and_bc.BoundaryCondition at 0x4680588>"
      ]
     },
     "execution_count": 9,
     "metadata": {},
     "output_type": "execute_result"
    }
   ],
   "source": [
    "bc = params.wells_and_bc.BoundaryCondition()\n",
    "bc.addPressureSide(G, \"top\", 100*bar)\n",
    "\n"
   ]
  },
  {
   "cell_type": "code",
   "execution_count": 10,
   "metadata": {
    "collapsed": false
   },
   "outputs": [
    {
     "name": "stdout",
     "output_type": "stream",
     "text": [
      "{'sat': None, 'type': array([['pressure']], \n",
      "      dtype='|S8'), 'value': array([[ 10000000.]]), 'face': array([[120]])}\n"
     ]
    }
   ],
   "source": [
    "print(bc)"
   ]
  },
  {
   "cell_type": "markdown",
   "metadata": {},
   "source": [
    "## Assemble and solve the linear system\n",
    "```\n",
    "%% Assemble and solve the linear system\n",
    "% To solve the flow problem, we use the standard two-point\n",
    "% flux-approximation method (TPFA), which for a Cartesian grid is the same\n",
    "% as a classical seven-point finite-difference scheme for Poisson's\n",
    "% equation. This is done in two steps: first we compute the\n",
    "% transmissibilities and then we assemble and solve the corresponding\n",
    "% discrete system.\n",
    "T   = computeTrans(G, rock);\n",
    "sol = incompTPFA(initResSol(G, 0.0), G, T, fluid, 'bc', bc);\n",
    "```"
   ]
  },
  {
   "cell_type": "code",
   "execution_count": 11,
   "metadata": {
    "collapsed": false
   },
   "outputs": [],
   "source": [
    "T = solvers.computeTrans(G, rock)\n",
    "resSol = solvers.initResSol(G, p0=0.0)"
   ]
  },
  {
   "cell_type": "code",
   "execution_count": 12,
   "metadata": {
    "collapsed": false
   },
   "outputs": [],
   "source": [
    "# prst/solvers.py\n",
    "\n",
    "def capPressureRHS():\n",
    "    pass\n",
    "\n",
    "def computePressureRHS():\n",
    "    pass\n",
    "\n",
    "def incompTPFA():\n",
    "    pass\n",
    "\n",
    "def _dynamic_quantities():\n",
    "    pass\n",
    "\n",
    "def _compute_trans():\n",
    "    pass"
   ]
  },
  {
   "cell_type": "markdown",
   "metadata": {
    "collapsed": true
   },
   "source": [
    "## incompTPFA"
   ]
  },
  {
   "cell_type": "code",
   "execution_count": 13,
   "metadata": {
    "collapsed": false
   },
   "outputs": [
    {
     "name": "stdout",
     "output_type": "stream",
     "text": [
      "Setting up linear system...\n"
     ]
    },
    {
     "ename": "AttributeError",
     "evalue": "'Grid' object has no attribute 'nnc'",
     "output_type": "error",
     "traceback": [
      "\u001b[1;31m---------------------------------------------------------------------------\u001b[0m",
      "\u001b[1;31mAttributeError\u001b[0m                            Traceback (most recent call last)",
      "\u001b[1;32m<ipython-input-13-88c9ecd19c61>\u001b[0m in \u001b[0;36m<module>\u001b[1;34m()\u001b[0m\n\u001b[0;32m     43\u001b[0m \u001b[1;33m\u001b[0m\u001b[0m\n\u001b[0;32m     44\u001b[0m \u001b[1;31m# Preliminaries\u001b[0m\u001b[1;33m\u001b[0m\u001b[1;33m\u001b[0m\u001b[0m\n\u001b[1;32m---> 45\u001b[1;33m \u001b[0mneighborship\u001b[0m\u001b[1;33m,\u001b[0m \u001b[0mn_isnnc\u001b[0m \u001b[1;33m=\u001b[0m \u001b[0mutils\u001b[0m\u001b[1;33m.\u001b[0m\u001b[0mgridtools\u001b[0m\u001b[1;33m.\u001b[0m\u001b[0mgetNeighborship\u001b[0m\u001b[1;33m(\u001b[0m\u001b[0mG\u001b[0m\u001b[1;33m,\u001b[0m \u001b[1;34m\"Topological\"\u001b[0m\u001b[1;33m,\u001b[0m \u001b[0mTrue\u001b[0m\u001b[1;33m,\u001b[0m \u001b[0mnargout\u001b[0m\u001b[1;33m=\u001b[0m\u001b[1;36m2\u001b[0m\u001b[1;33m)\u001b[0m\u001b[1;33m\u001b[0m\u001b[0m\n\u001b[0m",
      "\u001b[1;32mm:\\prst\\prst\\utils\\gridtools.py\u001b[0m in \u001b[0;36mgetNeighborship\u001b[1;34m(G, kind, incBdry, nargout)\u001b[0m\n\u001b[0;32m    114\u001b[0m \u001b[1;33m\u001b[0m\u001b[0m\n\u001b[0;32m    115\u001b[0m     \u001b[1;32mif\u001b[0m \u001b[0mnargout\u001b[0m \u001b[1;33m>=\u001b[0m \u001b[1;36m2\u001b[0m\u001b[1;33m:\u001b[0m\u001b[1;33m\u001b[0m\u001b[0m\n\u001b[1;32m--> 116\u001b[1;33m         \u001b[0misnnc\u001b[0m \u001b[1;33m=\u001b[0m \u001b[0mnp\u001b[0m\u001b[1;33m.\u001b[0m\u001b[0mvstack\u001b[0m\u001b[1;33m(\u001b[0m\u001b[1;33m(\u001b[0m\u001b[0misnnc\u001b[0m\u001b[1;33m,\u001b[0m \u001b[0mnp\u001b[0m\u001b[1;33m.\u001b[0m\u001b[0mones\u001b[0m\u001b[1;33m(\u001b[0m\u001b[1;33m(\u001b[0m\u001b[0mG\u001b[0m\u001b[1;33m.\u001b[0m\u001b[0mnnc\u001b[0m\u001b[1;33m.\u001b[0m\u001b[0mcells\u001b[0m\u001b[1;33m.\u001b[0m\u001b[0mshape\u001b[0m\u001b[1;33m[\u001b[0m\u001b[1;36m0\u001b[0m\u001b[1;33m]\u001b[0m\u001b[1;33m,\u001b[0m \u001b[1;36m1\u001b[0m\u001b[1;33m)\u001b[0m\u001b[1;33m,\u001b[0m \u001b[1;36m1\u001b[0m\u001b[1;33m)\u001b[0m\u001b[1;33m)\u001b[0m\u001b[1;33m)\u001b[0m\u001b[1;33m\u001b[0m\u001b[0m\n\u001b[0m\u001b[0;32m    117\u001b[0m         \u001b[1;32mreturn\u001b[0m \u001b[0mN\u001b[0m\u001b[1;33m,\u001b[0m \u001b[0misnnc\u001b[0m\u001b[1;33m\u001b[0m\u001b[0m\n\u001b[0;32m    118\u001b[0m     \u001b[1;32melse\u001b[0m\u001b[1;33m:\u001b[0m\u001b[1;33m\u001b[0m\u001b[0m\n",
      "\u001b[1;31mAttributeError\u001b[0m: 'Grid' object has no attribute 'nnc'"
     ]
    }
   ],
   "source": [
    "import time\n",
    "import prst\n",
    "import scipy.sparse.linalg\n",
    "\n",
    "state = resSol\n",
    "G = G\n",
    "T = T\n",
    "fluid = fluid\n",
    "wells = None\n",
    "bc = bc\n",
    "bcp = None\n",
    "src = None\n",
    "LinSolve = None\n",
    "MatrixOutput = False\n",
    "verbose = True\n",
    "condition_number = False\n",
    "gravity = None\n",
    "pc_form = \"nonwetting\"\n",
    "use_trans = False\n",
    "\n",
    "if LinSolve is None:\n",
    "    LinSolve = scipy.sparse.linalg.spsolve\n",
    "if verbose is None:\n",
    "    verbose = prst.verbosity\n",
    "if gravity is None:\n",
    "    gravity = prst.gravity\n",
    "    \n",
    "g_vec = gravity\n",
    "# If gravity is overridden, we cannot say anything about the effects of gravity on rhs.\n",
    "grav = np.linalg.norm(g_vec[0:G.gridDim]) > 0 or hasattr(G, 'grav_pressure')\n",
    "\n",
    "if all([not MatrixOutput, \n",
    "        bc is None,\n",
    "        src is None,\n",
    "        bcp is None,\n",
    "        wells is None,\n",
    "        not grav]):\n",
    "    prst.log.warn(\"No external driving forces present in model, state remains unchanged.\")\n",
    "    \n",
    "if verbose:\n",
    "    print(\"Setting up linear system...\")\n",
    "    t0 = time.time()\n",
    "\n",
    "# Preliminaries\n",
    "neighborship, n_isnnc = utils.gridtools.getNeighborship(G, \"Topological\", True, nargout=2)"
   ]
  },
  {
   "cell_type": "markdown",
   "metadata": {},
   "source": [
    "## getNeighborship"
   ]
  },
  {
   "cell_type": "code",
   "execution_count": null,
   "metadata": {
    "collapsed": true
   },
   "outputs": [],
   "source": []
  }
 ],
 "metadata": {
  "kernelspec": {
   "display_name": "Python 2",
   "language": "python",
   "name": "python2"
  },
  "language_info": {
   "codemirror_mode": {
    "name": "ipython",
    "version": 2
   },
   "file_extension": ".py",
   "mimetype": "text/x-python",
   "name": "python",
   "nbconvert_exporter": "python",
   "pygments_lexer": "ipython2",
   "version": "2.7.11"
  }
 },
 "nbformat": 4,
 "nbformat_minor": 0
}
