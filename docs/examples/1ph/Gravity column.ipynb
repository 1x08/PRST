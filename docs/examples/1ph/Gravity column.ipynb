{
 "cells": [
  {
   "cell_type": "markdown",
   "metadata": {},
   "source": [
    "# Gravity column\n",
    "\n",
    "This PRST example is based on the \"1ph/gravityColumn.m\" example found in MRST.\n",
    "\n",
    "## MATLAB code\n",
    "\n",
    "The code we are trying to convert to Python is the following:"
   ]
  },
  {
   "cell_type": "markdown",
   "metadata": {},
   "source": [
    "```\n",
    "%% My First Flow Solver: Gravity Column\n",
    "% In this example, we introduce a simple pressure solver and use it to\n",
    "% solve the single-phase pressure equation\n",
    "%\n",
    "% $$\\nabla\\cdot v = q, \\qquad\n",
    "%    v=\\textbf{--}\\frac{K}{\\mu} \\bigl[\\nabla p+\\rho g\\nabla z\\bigr],$$\n",
    "%\n",
    "% within the domain [0,1]x[0,1]x[0,30] using a Cartesian grid with\n",
    "% homogeneous isotropic permeability of 100 mD. The fluid has density 1000\n",
    "% kg/m^3 and viscosity 1 cP and the pressure is 100 bar at the top of the\n",
    "% structure.\n",
    "%\n",
    "% The purpose of the example is to show the basic steps for setting up,\n",
    "% solving, and visualizing a flow problem. More details on the grid\n",
    "% structure, the structure used to hold the solutions, and so on, are given\n",
    "% in the <simpleBC.html basic flow-solver tutorial>.\n",
    "try\n",
    "    require incomp\n",
    "catch %#ok<CTCH>\n",
    "    mrstModule add incomp\n",
    "end\n",
    "\n",
    "%% Define the model\n",
    "% To set up a model, we need: a grid, rock properties (permeability), a\n",
    "% fluid object with density and viscosity, and boundary conditions.\n",
    "gravity reset on\n",
    "G          = cartGrid([1, 1, 30], [1, 1, 30]);\n",
    "G          = computeGeometry(G);\n",
    "rock.perm  = repmat(0.1*darcy(), [G.cells.num, 1]);\n",
    "fluid      = initSingleFluid('mu' ,    1*centi*poise, ...\n",
    "                             'rho', 1014*kilogram/meter^3);\n",
    "bc  = pside([], G, 'TOP', 100.*barsa());\n",
    "\n",
    "%% Assemble and solve the linear system\n",
    "% To solve the flow problem, we use the standard two-point\n",
    "% flux-approximation method (TPFA), which for a Cartesian grid is the same\n",
    "% as a classical seven-point finite-difference scheme for Poisson's\n",
    "% equation. This is done in two steps: first we compute the\n",
    "% transmissibilities and then we assemble and solve the corresponding\n",
    "% discrete system.\n",
    "T   = computeTrans(G, rock);\n",
    "sol = incompTPFA(initResSol(G, 0.0), G, T, fluid, 'bc', bc);\n",
    "\n",
    "%% Plot the face pressures\n",
    "clf\n",
    "plotFaces(G, 1:G.faces.num, convertTo(sol.facePressure, barsa()));\n",
    "set(gca, 'ZDir', 'reverse'), title('Pressure [bar]')\n",
    "view(3), colorbar\n",
    "set(gca,'DataAspect',[1 1 10]);\n",
    "%%\n",
    "displayEndOfDemoMessage(mfilename)\n",
    "```"
   ]
  },
  {
   "cell_type": "markdown",
   "metadata": {},
   "source": [
    "The rest of the example will walk through this example line for line, displaying the PRST examples."
   ]
  },
  {
   "cell_type": "markdown",
   "metadata": {},
   "source": [
    "## Setup\n",
    "\n",
    "**Start by importing PRST.**"
   ]
  },
  {
   "cell_type": "code",
   "execution_count": 1,
   "metadata": {
    "collapsed": false
   },
   "outputs": [],
   "source": [
    "# For Python 3 compatibility\n",
    "from __future__ import absolute_import\n",
    "from __future__ import division\n",
    "from __future__ import print_function\n",
    "from __future__ import unicode_literals\n",
    "\n",
    "import numpy as np\n",
    "\n",
    "import prst\n",
    "import prst.incomp\n",
    "import prst.gridprocessing\n",
    "import prst.utils"
   ]
  },
  {
   "cell_type": "code",
   "execution_count": 2,
   "metadata": {
    "collapsed": false,
    "scrolled": false
   },
   "outputs": [
    {
     "name": "stdout",
     "output_type": "stream",
     "text": [
      "Help on package prst:\n",
      "\n",
      "NAME\n",
      "    prst - Python Reservoir Simulation Toolbox.\n",
      "\n",
      "FILE\n",
      "    m:\\prst\\prst\\__init__.py\n",
      "\n",
      "PACKAGE CONTENTS\n",
      "    gridprocessing\n",
      "    incomp (package)\n",
      "    io\n",
      "    params (package)\n",
      "    plotting\n",
      "    solvers\n",
      "    utils (package)\n",
      "\n",
      "DATA\n",
      "    __all__ = ['gridprocessing', 'io', 'incomp', 'plotting', 'utils', 'par...\n",
      "\n",
      "\n"
     ]
    }
   ],
   "source": [
    "help(prst)"
   ]
  },
  {
   "cell_type": "markdown",
   "metadata": {},
   "source": [
    "## Import the \"incomp\" module\n",
    "```\n",
    "try\n",
    "    require incomp\n",
    "catch %#ok<CTCH>\n",
    "    mrstModule add incomp\n",
    "end\n",
    "```"
   ]
  },
  {
   "cell_type": "code",
   "execution_count": 3,
   "metadata": {
    "collapsed": false
   },
   "outputs": [],
   "source": [
    "import prst.incomp"
   ]
  },
  {
   "cell_type": "markdown",
   "metadata": {},
   "source": [
    "```\n",
    "%% Define the model\n",
    "% To set up a model, we need: a grid, rock properties (permeability), a\n",
    "% fluid object with density and viscosity, and boundary conditions.\n",
    "gravity reset on\n",
    "```"
   ]
  },
  {
   "cell_type": "code",
   "execution_count": 4,
   "metadata": {
    "collapsed": false
   },
   "outputs": [
    {
     "name": "stdout",
     "output_type": "stream",
     "text": [
      "Gravity vector: [ 0.       0.       9.80665]\n"
     ]
    }
   ],
   "source": [
    "# PRST uses a single module-level variable to set the gravity\n",
    "import prst.params\n",
    "prst.params.gravity_reset()\n",
    "print(\"Gravity vector:\", prst.params.gravity)"
   ]
  },
  {
   "cell_type": "markdown",
   "metadata": {},
   "source": [
    "## Build the grid, setup fluid"
   ]
  },
  {
   "cell_type": "markdown",
   "metadata": {},
   "source": [
    "```G          = cartGrid([1, 1, 30], [1, 1, 30]);\n",
    "G          = computeGeometry(G);\n",
    "rock.perm  = repmat(0.1*darcy(), [G.cells.num, 1]);\n",
    "fluid      = initSingleFluid('mu' ,    1*centi*poise, ...\n",
    "                             'rho', 1014*kilogram/meter^3);\n",
    "                             ```"
   ]
  },
  {
   "cell_type": "code",
   "execution_count": 5,
   "metadata": {
    "collapsed": false
   },
   "outputs": [
    {
     "name": "stdout",
     "output_type": "stream",
     "text": [
      "<PRST grid\n",
      "  gridType: [u'tensorGrid', u'cartGrid']\n",
      "  cells: ['facePos', 'num', 'indexMap', 'faces']\n",
      "  cartDims: [ 1  1 30]\n",
      "  gridDim: 3\n",
      "  faces: ['neighbors', 'nodes', 'num', 'tag', 'nodePos']\n",
      "  nodes: ['num', 'coords']\n",
      ">\n"
     ]
    }
   ],
   "source": [
    "G = prst.gridprocessing.cartGrid([1, 1, 30], [1, 1, 30])\n",
    "print(G)"
   ]
  },
  {
   "cell_type": "markdown",
   "metadata": {},
   "source": [
    "**Computing the geometry modifies the original grid in place, no assignment is \n",
    "necessary. Note that specifying the module is necessary in PRST.\n",
    "This avoids polluting the global namespace, at the cost of more verbosity.**"
   ]
  },
  {
   "cell_type": "code",
   "execution_count": 6,
   "metadata": {
    "collapsed": false
   },
   "outputs": [
    {
     "name": "stderr",
     "output_type": "stream",
     "text": [
      "INFO:prst:Computing normals, areas and centroids...\n",
      "INFO:prst:Computing cell volumes and centroids\n"
     ]
    },
    {
     "data": {
      "text/plain": [
       "<prst.gridprocessing.Grid at 0x3c394a8>"
      ]
     },
     "execution_count": 6,
     "metadata": {},
     "output_type": "execute_result"
    }
   ],
   "source": [
    "prst.gridprocessing.computeGeometry(G)"
   ]
  },
  {
   "cell_type": "code",
   "execution_count": 7,
   "metadata": {
    "collapsed": false
   },
   "outputs": [
    {
     "name": "stdout",
     "output_type": "stream",
     "text": [
      "<PRST grid\n",
      "  gridType: [u'tensorGrid', u'cartGrid', u'computeGeometry']\n",
      "  cells: ['facePos', 'centroids', 'num', 'volumes', 'faces', 'indexMap']\n",
      "  cartDims: [ 1  1 30]\n",
      "  gridDim: 3\n",
      "  faces: ['neighbors', 'nodePos', 'tag', 'centroids', 'num', 'normals', 'nodes', 'areas']\n",
      "  nodes: ['num', 'coords']\n",
      ">\n"
     ]
    }
   ],
   "source": [
    "print(G)"
   ]
  },
  {
   "cell_type": "code",
   "execution_count": 16,
   "metadata": {
    "collapsed": false
   },
   "outputs": [],
   "source": [
    "from prst.params.rock import Rock\n",
    "from prst.utils.units import *\n",
    "rock = Rock(G, perm=0.1*darcy, poro=1)"
   ]
  },
  {
   "cell_type": "code",
   "execution_count": null,
   "metadata": {
    "collapsed": false
   },
   "outputs": [],
   "source": [
    "from prst.incomp.fluid import SingleFluid\n",
    "fluid = SingleFluid(viscosity=1*centi*poise, density=1014*kilogram/meter**3)\n",
    "print(fluid)"
   ]
  },
  {
   "cell_type": "markdown",
   "metadata": {},
   "source": [
    "**Set up boundary conditions. Constant pressure at top face.**"
   ]
  },
  {
   "cell_type": "code",
   "execution_count": null,
   "metadata": {
    "collapsed": false
   },
   "outputs": [],
   "source": [
    "#bc  = pside([], G, 'TOP', 100.*barsa());\n",
    "from prst.params.wells_and_bc import BoundaryCondition, _boundaryCellsSubset\n",
    "try:\n",
    "    reload(prst.params.wells_and_bc)\n",
    "except Exception as e:\n",
    "    print(\"couldnt reload\", e)\n",
    "\n",
    "bc = BoundaryCondition()\n",
    "bc.addPressureSide(G, \"top\", 100*bar)\n",
    "\n"
   ]
  },
  {
   "cell_type": "markdown",
   "metadata": {},
   "source": [
    "## Assemble and solve the linear system\n",
    "```\n",
    "%% Assemble and solve the linear system\n",
    "% To solve the flow problem, we use the standard two-point\n",
    "% flux-approximation method (TPFA), which for a Cartesian grid is the same\n",
    "% as a classical seven-point finite-difference scheme for Poisson's\n",
    "% equation. This is done in two steps: first we compute the\n",
    "% transmissibilities and then we assemble and solve the corresponding\n",
    "% discrete system.\n",
    "T   = computeTrans(G, rock);\n",
    "sol = incompTPFA(initResSol(G, 0.0), G, T, fluid, 'bc', bc);\n",
    "```"
   ]
  },
  {
   "cell_type": "code",
   "execution_count": 18,
   "metadata": {
    "collapsed": false
   },
   "outputs": [],
   "source": [
    "import prst\n",
    "try:\n",
    "    from prst.solvers import computeTrans\n",
    "    reload(prst.solvers)\n",
    "except Exception as e:\n",
    "    print(e)\n",
    "\n",
    "T = computeTrans(G, rock)"
   ]
  },
  {
   "cell_type": "code",
   "execution_count": null,
   "metadata": {
    "collapsed": true
   },
   "outputs": [],
   "source": []
  }
 ],
 "metadata": {
  "kernelspec": {
   "display_name": "Python 2",
   "language": "python",
   "name": "python2"
  },
  "language_info": {
   "codemirror_mode": {
    "name": "ipython",
    "version": 2
   },
   "file_extension": ".py",
   "mimetype": "text/x-python",
   "name": "python",
   "nbconvert_exporter": "python",
   "pygments_lexer": "ipython2",
   "version": "2.7.11"
  }
 },
 "nbformat": 4,
 "nbformat_minor": 0
}
