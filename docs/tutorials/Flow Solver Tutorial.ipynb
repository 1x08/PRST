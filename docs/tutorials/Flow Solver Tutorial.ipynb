{
 "cells": [
  {
   "cell_type": "markdown",
   "metadata": {},
   "source": [
    "# Flow Solver Tutorial\n",
    "\n",
    "http://www.sintef.no/projectweb/mrst/tutorials/flow-solver-tutorial/"
   ]
  },
  {
   "cell_type": "code",
   "execution_count": 1,
   "metadata": {
    "collapsed": true
   },
   "outputs": [],
   "source": [
    "from __future__ import absolute_import\n",
    "from __future__ import division\n",
    "from __future__ import print_function\n",
    "from __future__ import unicode_literals\n",
    "\n",
    "import numpy as np\n",
    "\n",
    "# For importing pyrst without proper installation\n",
    "import sys\n",
    "sys.path.append(\"/home/shomea/a/andreros/pyrst\")\n",
    "\n",
    "import pyrst\n",
    "import pyrst.io\n",
    "import pyrst.utils"
   ]
  },
  {
   "cell_type": "code",
   "execution_count": 3,
   "metadata": {
    "collapsed": false
   },
   "outputs": [
    {
     "name": "stdout",
     "output_type": "stream",
     "text": [
      "<PyRST grid\n",
      "  gridType: [u'tensorGrid', u'cartGrid']\n",
      "  cells: <pyrst.gridprocessing.Cells object at 0x7f80da909850>\n",
      "  cartDims: [10 10  4]\n",
      "  gridDim: 3\n",
      "  faces: <pyrst.gridprocessing.Faces object at 0x7f80da9098d0>\n",
      "  nodes: <pyrst.gridprocessing.Nodes object at 0x7f80da909890>\n",
      ">\n"
     ]
    }
   ],
   "source": [
    "nx, ny, nz = 10, 10, 4\n",
    "G = pyrst.gridprocessing.cartGrid([nx, ny, nz])\n",
    "print(G)"
   ]
  },
  {
   "cell_type": "code",
   "execution_count": 5,
   "metadata": {
    "collapsed": false
   },
   "outputs": [
    {
     "name": "stderr",
     "output_type": "stream",
     "text": [
      "INFO:pyrst:Computing normals, areas and centroids...\n",
      "INFO:pyrst:Computing cell volumes and centroids\n"
     ]
    },
    {
     "name": "stdout",
     "output_type": "stream",
     "text": [
      "<PyRST grid\n",
      "  gridType: [u'tensorGrid', u'cartGrid', u'computeGeometry']\n",
      "  cells: <pyrst.gridprocessing.Cells object at 0x7f80da909850>\n",
      "  cartDims: [10 10  4]\n",
      "  gridDim: 3\n",
      "  faces: <pyrst.gridprocessing.Faces object at 0x7f80da9098d0>\n",
      "  nodes: <pyrst.gridprocessing.Nodes object at 0x7f80da909890>\n",
      ">\n"
     ]
    }
   ],
   "source": [
    "pyrst.gridprocessing.computeGeometry(G)\n",
    "print(G)"
   ]
  }
 ],
 "metadata": {
  "kernelspec": {
   "display_name": "Python 2",
   "language": "python",
   "name": "python2"
  },
  "language_info": {
   "codemirror_mode": {
    "name": "ipython",
    "version": 2
   },
   "file_extension": ".py",
   "mimetype": "text/x-python",
   "name": "python",
   "nbconvert_exporter": "python",
   "pygments_lexer": "ipython2",
   "version": "2.7.11"
  }
 },
 "nbformat": 4,
 "nbformat_minor": 0
}
